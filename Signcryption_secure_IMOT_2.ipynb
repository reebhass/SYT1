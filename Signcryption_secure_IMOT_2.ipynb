{
  "nbformat": 4,
  "nbformat_minor": 0,
  "metadata": {
    "colab": {
      "provenance": []
    },
    "kernelspec": {
      "name": "python3",
      "display_name": "Python 3"
    },
    "language_info": {
      "name": "python"
    }
  },
  "cells": [
    {
      "cell_type": "code",
      "execution_count": null,
      "metadata": {
        "colab": {
          "base_uri": "https://localhost:8080/"
        },
        "id": "rs-TXjsNTpJF",
        "outputId": "7e22b141-7217-4a54-c9c8-4a7e79676f2a"
      },
      "outputs": [
        {
          "output_type": "stream",
          "name": "stdout",
          "text": [
            "Requirement already satisfied: kaggle in /usr/local/lib/python3.10/dist-packages (1.5.16)\n",
            "Requirement already satisfied: six>=1.10 in /usr/local/lib/python3.10/dist-packages (from kaggle) (1.16.0)\n",
            "Requirement already satisfied: certifi in /usr/local/lib/python3.10/dist-packages (from kaggle) (2024.2.2)\n",
            "Requirement already satisfied: python-dateutil in /usr/local/lib/python3.10/dist-packages (from kaggle) (2.8.2)\n",
            "Requirement already satisfied: requests in /usr/local/lib/python3.10/dist-packages (from kaggle) (2.31.0)\n",
            "Requirement already satisfied: tqdm in /usr/local/lib/python3.10/dist-packages (from kaggle) (4.66.2)\n",
            "Requirement already satisfied: python-slugify in /usr/local/lib/python3.10/dist-packages (from kaggle) (8.0.4)\n",
            "Requirement already satisfied: urllib3 in /usr/local/lib/python3.10/dist-packages (from kaggle) (2.0.7)\n",
            "Requirement already satisfied: bleach in /usr/local/lib/python3.10/dist-packages (from kaggle) (6.1.0)\n",
            "Requirement already satisfied: webencodings in /usr/local/lib/python3.10/dist-packages (from bleach->kaggle) (0.5.1)\n",
            "Requirement already satisfied: text-unidecode>=1.3 in /usr/local/lib/python3.10/dist-packages (from python-slugify->kaggle) (1.3)\n",
            "Requirement already satisfied: charset-normalizer<4,>=2 in /usr/local/lib/python3.10/dist-packages (from requests->kaggle) (3.3.2)\n",
            "Requirement already satisfied: idna<4,>=2.5 in /usr/local/lib/python3.10/dist-packages (from requests->kaggle) (3.6)\n"
          ]
        }
      ],
      "source": [
        "!pip install kaggle"
      ]
    },
    {
      "cell_type": "code",
      "source": [
        "!pip install pandas"
      ],
      "metadata": {
        "colab": {
          "base_uri": "https://localhost:8080/"
        },
        "id": "LYJnVsiO8sDH",
        "outputId": "4f4373e1-1d4c-4db4-faec-40f86d274143"
      },
      "execution_count": null,
      "outputs": [
        {
          "output_type": "stream",
          "name": "stdout",
          "text": [
            "Requirement already satisfied: pandas in /usr/local/lib/python3.10/dist-packages (1.5.3)\n",
            "Requirement already satisfied: python-dateutil>=2.8.1 in /usr/local/lib/python3.10/dist-packages (from pandas) (2.8.2)\n",
            "Requirement already satisfied: pytz>=2020.1 in /usr/local/lib/python3.10/dist-packages (from pandas) (2023.4)\n",
            "Requirement already satisfied: numpy>=1.21.0 in /usr/local/lib/python3.10/dist-packages (from pandas) (1.25.2)\n",
            "Requirement already satisfied: six>=1.5 in /usr/local/lib/python3.10/dist-packages (from python-dateutil>=2.8.1->pandas) (1.16.0)\n"
          ]
        }
      ]
    },
    {
      "cell_type": "code",
      "source": [
        "!pip install cryptography"
      ],
      "metadata": {
        "colab": {
          "base_uri": "https://localhost:8080/"
        },
        "id": "Dd3oq73S8vKa",
        "outputId": "68f03eed-bcbf-4c60-ff4b-915e1f85c771"
      },
      "execution_count": null,
      "outputs": [
        {
          "output_type": "stream",
          "name": "stdout",
          "text": [
            "Requirement already satisfied: cryptography in /usr/local/lib/python3.10/dist-packages (42.0.5)\n",
            "Requirement already satisfied: cffi>=1.12 in /usr/local/lib/python3.10/dist-packages (from cryptography) (1.16.0)\n",
            "Requirement already satisfied: pycparser in /usr/local/lib/python3.10/dist-packages (from cffi>=1.12->cryptography) (2.21)\n"
          ]
        }
      ]
    },
    {
      "cell_type": "code",
      "source": [
        "!mkdir ~/.kaggle"
      ],
      "metadata": {
        "colab": {
          "base_uri": "https://localhost:8080/"
        },
        "id": "CefDKDdP815I",
        "outputId": "8f59ea82-48e2-4e2f-c838-e436ba5a8f02"
      },
      "execution_count": null,
      "outputs": [
        {
          "output_type": "stream",
          "name": "stdout",
          "text": [
            "mkdir: cannot create directory ‘/root/.kaggle’: File exists\n"
          ]
        }
      ]
    },
    {
      "cell_type": "code",
      "source": [
        "!cp kaggle.json ~/.kaggle"
      ],
      "metadata": {
        "id": "H3VEn8hH86_D"
      },
      "execution_count": null,
      "outputs": []
    },
    {
      "cell_type": "code",
      "source": [
        "!chmod 600 ~/.kaggle/kaggle.json"
      ],
      "metadata": {
        "id": "phJM0dtj88mL"
      },
      "execution_count": null,
      "outputs": []
    },
    {
      "cell_type": "code",
      "source": [
        "!kaggle datasets list"
      ],
      "metadata": {
        "id": "ViEUrvpu8_J7"
      },
      "execution_count": null,
      "outputs": []
    },
    {
      "cell_type": "code",
      "source": [
        "!pip install --upgrade opencv-python"
      ],
      "metadata": {
        "colab": {
          "base_uri": "https://localhost:8080/"
        },
        "id": "kTG_v3MG8_Hl",
        "outputId": "5e4aa430-3541-4a9c-f493-661e24ca63c8"
      },
      "execution_count": null,
      "outputs": [
        {
          "output_type": "stream",
          "name": "stdout",
          "text": [
            "Requirement already satisfied: opencv-python in /usr/local/lib/python3.10/dist-packages (4.8.0.76)\n",
            "Collecting opencv-python\n",
            "  Downloading opencv_python-4.9.0.80-cp37-abi3-manylinux_2_17_x86_64.manylinux2014_x86_64.whl (62.2 MB)\n",
            "\u001b[2K     \u001b[90m━━━━━━━━━━━━━━━━━━━━━━━━━━━━━━━━━━━━━━━━\u001b[0m \u001b[32m62.2/62.2 MB\u001b[0m \u001b[31m10.9 MB/s\u001b[0m eta \u001b[36m0:00:00\u001b[0m\n",
            "\u001b[?25hRequirement already satisfied: numpy>=1.21.2 in /usr/local/lib/python3.10/dist-packages (from opencv-python) (1.25.2)\n",
            "Installing collected packages: opencv-python\n",
            "  Attempting uninstall: opencv-python\n",
            "    Found existing installation: opencv-python 4.8.0.76\n",
            "    Uninstalling opencv-python-4.8.0.76:\n",
            "      Successfully uninstalled opencv-python-4.8.0.76\n",
            "Successfully installed opencv-python-4.9.0.80\n"
          ]
        }
      ]
    },
    {
      "cell_type": "code",
      "source": [
        "pip install opencv-python"
      ],
      "metadata": {
        "colab": {
          "base_uri": "https://localhost:8080/"
        },
        "id": "gJZeuIh38_Fd",
        "outputId": "881f2eca-2715-4ed4-f714-174b5f4e9e04"
      },
      "execution_count": null,
      "outputs": [
        {
          "output_type": "stream",
          "name": "stdout",
          "text": [
            "Requirement already satisfied: opencv-python in /usr/local/lib/python3.10/dist-packages (4.9.0.80)\n",
            "Requirement already satisfied: numpy>=1.21.2 in /usr/local/lib/python3.10/dist-packages (from opencv-python) (1.25.2)\n"
          ]
        }
      ]
    },
    {
      "cell_type": "code",
      "source": [
        "pip install qiskit --upgrade"
      ],
      "metadata": {
        "colab": {
          "base_uri": "https://localhost:8080/"
        },
        "id": "B1roi6kt8_DH",
        "outputId": "0f3e8a62-fcec-43d5-cf68-f03dc820e7f4"
      },
      "execution_count": null,
      "outputs": [
        {
          "output_type": "stream",
          "name": "stdout",
          "text": [
            "Collecting qiskit\n",
            "  Downloading qiskit-1.0.2-cp38-abi3-manylinux_2_17_x86_64.manylinux2014_x86_64.whl (5.6 MB)\n",
            "\u001b[2K     \u001b[90m━━━━━━━━━━━━━━━━━━━━━━━━━━━━━━━━━━━━━━━━\u001b[0m \u001b[32m5.6/5.6 MB\u001b[0m \u001b[31m19.4 MB/s\u001b[0m eta \u001b[36m0:00:00\u001b[0m\n",
            "\u001b[?25hCollecting rustworkx>=0.14.0 (from qiskit)\n",
            "  Downloading rustworkx-0.14.1-cp310-cp310-manylinux_2_17_x86_64.manylinux2014_x86_64.whl (2.1 MB)\n",
            "\u001b[2K     \u001b[90m━━━━━━━━━━━━━━━━━━━━━━━━━━━━━━━━━━━━━━━━\u001b[0m \u001b[32m2.1/2.1 MB\u001b[0m \u001b[31m39.8 MB/s\u001b[0m eta \u001b[36m0:00:00\u001b[0m\n",
            "\u001b[?25hRequirement already satisfied: numpy<2,>=1.17 in /usr/local/lib/python3.10/dist-packages (from qiskit) (1.25.2)\n",
            "Requirement already satisfied: scipy>=1.5 in /usr/local/lib/python3.10/dist-packages (from qiskit) (1.11.4)\n",
            "Requirement already satisfied: sympy>=1.3 in /usr/local/lib/python3.10/dist-packages (from qiskit) (1.12)\n",
            "Collecting dill>=0.3 (from qiskit)\n",
            "  Downloading dill-0.3.8-py3-none-any.whl (116 kB)\n",
            "\u001b[2K     \u001b[90m━━━━━━━━━━━━━━━━━━━━━━━━━━━━━━━━━━━━━━━━\u001b[0m \u001b[32m116.3/116.3 kB\u001b[0m \u001b[31m15.1 MB/s\u001b[0m eta \u001b[36m0:00:00\u001b[0m\n",
            "\u001b[?25hRequirement already satisfied: python-dateutil>=2.8.0 in /usr/local/lib/python3.10/dist-packages (from qiskit) (2.8.2)\n",
            "Collecting stevedore>=3.0.0 (from qiskit)\n",
            "  Downloading stevedore-5.2.0-py3-none-any.whl (49 kB)\n",
            "\u001b[2K     \u001b[90m━━━━━━━━━━━━━━━━━━━━━━━━━━━━━━━━━━━━━━━━\u001b[0m \u001b[32m49.7/49.7 kB\u001b[0m \u001b[31m5.7 MB/s\u001b[0m eta \u001b[36m0:00:00\u001b[0m\n",
            "\u001b[?25hRequirement already satisfied: typing-extensions in /usr/local/lib/python3.10/dist-packages (from qiskit) (4.10.0)\n",
            "Collecting symengine>=0.11 (from qiskit)\n",
            "  Downloading symengine-0.11.0-cp310-cp310-manylinux_2_12_x86_64.manylinux2010_x86_64.whl (39.4 MB)\n",
            "\u001b[2K     \u001b[90m━━━━━━━━━━━━━━━━━━━━━━━━━━━━━━━━━━━━━━━━\u001b[0m \u001b[32m39.4/39.4 MB\u001b[0m \u001b[31m14.7 MB/s\u001b[0m eta \u001b[36m0:00:00\u001b[0m\n",
            "\u001b[?25hRequirement already satisfied: six>=1.5 in /usr/local/lib/python3.10/dist-packages (from python-dateutil>=2.8.0->qiskit) (1.16.0)\n",
            "Collecting pbr!=2.1.0,>=2.0.0 (from stevedore>=3.0.0->qiskit)\n",
            "  Downloading pbr-6.0.0-py2.py3-none-any.whl (107 kB)\n",
            "\u001b[2K     \u001b[90m━━━━━━━━━━━━━━━━━━━━━━━━━━━━━━━━━━━━━━━━\u001b[0m \u001b[32m107.5/107.5 kB\u001b[0m \u001b[31m13.5 MB/s\u001b[0m eta \u001b[36m0:00:00\u001b[0m\n",
            "\u001b[?25hRequirement already satisfied: mpmath>=0.19 in /usr/local/lib/python3.10/dist-packages (from sympy>=1.3->qiskit) (1.3.0)\n",
            "Installing collected packages: symengine, rustworkx, pbr, dill, stevedore, qiskit\n",
            "Successfully installed dill-0.3.8 pbr-6.0.0 qiskit-1.0.2 rustworkx-0.14.1 stevedore-5.2.0 symengine-0.11.0\n"
          ]
        }
      ]
    },
    {
      "cell_type": "code",
      "source": [
        "pip install tensorflow scikit-learn"
      ],
      "metadata": {
        "colab": {
          "base_uri": "https://localhost:8080/"
        },
        "id": "gr5VyRiW8_Ao",
        "outputId": "67d2ac38-cbf2-45b9-f173-4d40f3748732"
      },
      "execution_count": null,
      "outputs": [
        {
          "output_type": "stream",
          "name": "stdout",
          "text": [
            "Requirement already satisfied: tensorflow in /usr/local/lib/python3.10/dist-packages (2.15.0)\n",
            "Requirement already satisfied: scikit-learn in /usr/local/lib/python3.10/dist-packages (1.2.2)\n",
            "Requirement already satisfied: absl-py>=1.0.0 in /usr/local/lib/python3.10/dist-packages (from tensorflow) (1.4.0)\n",
            "Requirement already satisfied: astunparse>=1.6.0 in /usr/local/lib/python3.10/dist-packages (from tensorflow) (1.6.3)\n",
            "Requirement already satisfied: flatbuffers>=23.5.26 in /usr/local/lib/python3.10/dist-packages (from tensorflow) (23.5.26)\n",
            "Requirement already satisfied: gast!=0.5.0,!=0.5.1,!=0.5.2,>=0.2.1 in /usr/local/lib/python3.10/dist-packages (from tensorflow) (0.5.4)\n",
            "Requirement already satisfied: google-pasta>=0.1.1 in /usr/local/lib/python3.10/dist-packages (from tensorflow) (0.2.0)\n",
            "Requirement already satisfied: h5py>=2.9.0 in /usr/local/lib/python3.10/dist-packages (from tensorflow) (3.9.0)\n",
            "Requirement already satisfied: libclang>=13.0.0 in /usr/local/lib/python3.10/dist-packages (from tensorflow) (16.0.6)\n",
            "Requirement already satisfied: ml-dtypes~=0.2.0 in /usr/local/lib/python3.10/dist-packages (from tensorflow) (0.2.0)\n",
            "Requirement already satisfied: numpy<2.0.0,>=1.23.5 in /usr/local/lib/python3.10/dist-packages (from tensorflow) (1.25.2)\n",
            "Requirement already satisfied: opt-einsum>=2.3.2 in /usr/local/lib/python3.10/dist-packages (from tensorflow) (3.3.0)\n",
            "Requirement already satisfied: packaging in /usr/local/lib/python3.10/dist-packages (from tensorflow) (23.2)\n",
            "Requirement already satisfied: protobuf!=4.21.0,!=4.21.1,!=4.21.2,!=4.21.3,!=4.21.4,!=4.21.5,<5.0.0dev,>=3.20.3 in /usr/local/lib/python3.10/dist-packages (from tensorflow) (3.20.3)\n",
            "Requirement already satisfied: setuptools in /usr/local/lib/python3.10/dist-packages (from tensorflow) (67.7.2)\n",
            "Requirement already satisfied: six>=1.12.0 in /usr/local/lib/python3.10/dist-packages (from tensorflow) (1.16.0)\n",
            "Requirement already satisfied: termcolor>=1.1.0 in /usr/local/lib/python3.10/dist-packages (from tensorflow) (2.4.0)\n",
            "Requirement already satisfied: typing-extensions>=3.6.6 in /usr/local/lib/python3.10/dist-packages (from tensorflow) (4.10.0)\n",
            "Requirement already satisfied: wrapt<1.15,>=1.11.0 in /usr/local/lib/python3.10/dist-packages (from tensorflow) (1.14.1)\n",
            "Requirement already satisfied: tensorflow-io-gcs-filesystem>=0.23.1 in /usr/local/lib/python3.10/dist-packages (from tensorflow) (0.36.0)\n",
            "Requirement already satisfied: grpcio<2.0,>=1.24.3 in /usr/local/lib/python3.10/dist-packages (from tensorflow) (1.62.0)\n",
            "Requirement already satisfied: tensorboard<2.16,>=2.15 in /usr/local/lib/python3.10/dist-packages (from tensorflow) (2.15.2)\n",
            "Requirement already satisfied: tensorflow-estimator<2.16,>=2.15.0 in /usr/local/lib/python3.10/dist-packages (from tensorflow) (2.15.0)\n",
            "Requirement already satisfied: keras<2.16,>=2.15.0 in /usr/local/lib/python3.10/dist-packages (from tensorflow) (2.15.0)\n",
            "Requirement already satisfied: scipy>=1.3.2 in /usr/local/lib/python3.10/dist-packages (from scikit-learn) (1.11.4)\n",
            "Requirement already satisfied: joblib>=1.1.1 in /usr/local/lib/python3.10/dist-packages (from scikit-learn) (1.3.2)\n",
            "Requirement already satisfied: threadpoolctl>=2.0.0 in /usr/local/lib/python3.10/dist-packages (from scikit-learn) (3.3.0)\n",
            "Requirement already satisfied: wheel<1.0,>=0.23.0 in /usr/local/lib/python3.10/dist-packages (from astunparse>=1.6.0->tensorflow) (0.42.0)\n",
            "Requirement already satisfied: google-auth<3,>=1.6.3 in /usr/local/lib/python3.10/dist-packages (from tensorboard<2.16,>=2.15->tensorflow) (2.27.0)\n",
            "Requirement already satisfied: google-auth-oauthlib<2,>=0.5 in /usr/local/lib/python3.10/dist-packages (from tensorboard<2.16,>=2.15->tensorflow) (1.2.0)\n",
            "Requirement already satisfied: markdown>=2.6.8 in /usr/local/lib/python3.10/dist-packages (from tensorboard<2.16,>=2.15->tensorflow) (3.5.2)\n",
            "Requirement already satisfied: requests<3,>=2.21.0 in /usr/local/lib/python3.10/dist-packages (from tensorboard<2.16,>=2.15->tensorflow) (2.31.0)\n",
            "Requirement already satisfied: tensorboard-data-server<0.8.0,>=0.7.0 in /usr/local/lib/python3.10/dist-packages (from tensorboard<2.16,>=2.15->tensorflow) (0.7.2)\n",
            "Requirement already satisfied: werkzeug>=1.0.1 in /usr/local/lib/python3.10/dist-packages (from tensorboard<2.16,>=2.15->tensorflow) (3.0.1)\n",
            "Requirement already satisfied: cachetools<6.0,>=2.0.0 in /usr/local/lib/python3.10/dist-packages (from google-auth<3,>=1.6.3->tensorboard<2.16,>=2.15->tensorflow) (5.3.3)\n",
            "Requirement already satisfied: pyasn1-modules>=0.2.1 in /usr/local/lib/python3.10/dist-packages (from google-auth<3,>=1.6.3->tensorboard<2.16,>=2.15->tensorflow) (0.3.0)\n",
            "Requirement already satisfied: rsa<5,>=3.1.4 in /usr/local/lib/python3.10/dist-packages (from google-auth<3,>=1.6.3->tensorboard<2.16,>=2.15->tensorflow) (4.9)\n",
            "Requirement already satisfied: requests-oauthlib>=0.7.0 in /usr/local/lib/python3.10/dist-packages (from google-auth-oauthlib<2,>=0.5->tensorboard<2.16,>=2.15->tensorflow) (1.3.1)\n",
            "Requirement already satisfied: charset-normalizer<4,>=2 in /usr/local/lib/python3.10/dist-packages (from requests<3,>=2.21.0->tensorboard<2.16,>=2.15->tensorflow) (3.3.2)\n",
            "Requirement already satisfied: idna<4,>=2.5 in /usr/local/lib/python3.10/dist-packages (from requests<3,>=2.21.0->tensorboard<2.16,>=2.15->tensorflow) (3.6)\n",
            "Requirement already satisfied: urllib3<3,>=1.21.1 in /usr/local/lib/python3.10/dist-packages (from requests<3,>=2.21.0->tensorboard<2.16,>=2.15->tensorflow) (2.0.7)\n",
            "Requirement already satisfied: certifi>=2017.4.17 in /usr/local/lib/python3.10/dist-packages (from requests<3,>=2.21.0->tensorboard<2.16,>=2.15->tensorflow) (2024.2.2)\n",
            "Requirement already satisfied: MarkupSafe>=2.1.1 in /usr/local/lib/python3.10/dist-packages (from werkzeug>=1.0.1->tensorboard<2.16,>=2.15->tensorflow) (2.1.5)\n",
            "Requirement already satisfied: pyasn1<0.6.0,>=0.4.6 in /usr/local/lib/python3.10/dist-packages (from pyasn1-modules>=0.2.1->google-auth<3,>=1.6.3->tensorboard<2.16,>=2.15->tensorflow) (0.5.1)\n",
            "Requirement already satisfied: oauthlib>=3.0.0 in /usr/local/lib/python3.10/dist-packages (from requests-oauthlib>=0.7.0->google-auth-oauthlib<2,>=0.5->tensorboard<2.16,>=2.15->tensorflow) (3.2.2)\n"
          ]
        }
      ]
    },
    {
      "cell_type": "code",
      "source": [
        "!kaggle datasets download 'mohneesh7/indian-medicine-data'"
      ],
      "metadata": {
        "colab": {
          "base_uri": "https://localhost:8080/"
        },
        "id": "3xBBc6yT8--e",
        "outputId": "7aafb396-7e14-426e-c197-4e7111243bee"
      },
      "execution_count": null,
      "outputs": [
        {
          "output_type": "stream",
          "name": "stdout",
          "text": [
            "Downloading indian-medicine-data.zip to /content\n",
            "\r  0% 0.00/17.8M [00:00<?, ?B/s]\r 28% 5.00M/17.8M [00:00<00:00, 35.8MB/s]\n",
            "\r100% 17.8M/17.8M [00:00<00:00, 88.2MB/s]\n"
          ]
        }
      ]
    },
    {
      "cell_type": "code",
      "source": [
        "!unzip '/content/indian-medicine-data.zip'"
      ],
      "metadata": {
        "colab": {
          "base_uri": "https://localhost:8080/"
        },
        "id": "hdO5oBUt8-7x",
        "outputId": "d7f42bc3-2241-42d1-ef1e-f9ead5d23c1c"
      },
      "execution_count": null,
      "outputs": [
        {
          "output_type": "stream",
          "name": "stdout",
          "text": [
            "Archive:  /content/indian-medicine-data.zip\n",
            "  inflating: medicine_data.csv       \n"
          ]
        }
      ]
    },
    {
      "cell_type": "code",
      "source": [
        "!pip install --upgrade qiskit"
      ],
      "metadata": {
        "colab": {
          "base_uri": "https://localhost:8080/"
        },
        "id": "cjlM9d548-3y",
        "outputId": "c65aeeb7-10f7-40f8-9c1a-1c4b9439522d"
      },
      "execution_count": null,
      "outputs": [
        {
          "output_type": "stream",
          "name": "stdout",
          "text": [
            "Requirement already satisfied: qiskit in /usr/local/lib/python3.10/dist-packages (1.0.2)\n",
            "Requirement already satisfied: rustworkx>=0.14.0 in /usr/local/lib/python3.10/dist-packages (from qiskit) (0.14.1)\n",
            "Requirement already satisfied: numpy<2,>=1.17 in /usr/local/lib/python3.10/dist-packages (from qiskit) (1.25.2)\n",
            "Requirement already satisfied: scipy>=1.5 in /usr/local/lib/python3.10/dist-packages (from qiskit) (1.11.4)\n",
            "Requirement already satisfied: sympy>=1.3 in /usr/local/lib/python3.10/dist-packages (from qiskit) (1.12)\n",
            "Requirement already satisfied: dill>=0.3 in /usr/local/lib/python3.10/dist-packages (from qiskit) (0.3.8)\n",
            "Requirement already satisfied: python-dateutil>=2.8.0 in /usr/local/lib/python3.10/dist-packages (from qiskit) (2.8.2)\n",
            "Requirement already satisfied: stevedore>=3.0.0 in /usr/local/lib/python3.10/dist-packages (from qiskit) (5.2.0)\n",
            "Requirement already satisfied: typing-extensions in /usr/local/lib/python3.10/dist-packages (from qiskit) (4.10.0)\n",
            "Requirement already satisfied: symengine>=0.11 in /usr/local/lib/python3.10/dist-packages (from qiskit) (0.11.0)\n",
            "Requirement already satisfied: six>=1.5 in /usr/local/lib/python3.10/dist-packages (from python-dateutil>=2.8.0->qiskit) (1.16.0)\n",
            "Requirement already satisfied: pbr!=2.1.0,>=2.0.0 in /usr/local/lib/python3.10/dist-packages (from stevedore>=3.0.0->qiskit) (6.0.0)\n",
            "Requirement already satisfied: mpmath>=0.19 in /usr/local/lib/python3.10/dist-packages (from sympy>=1.3->qiskit) (1.3.0)\n"
          ]
        }
      ]
    },
    {
      "cell_type": "code",
      "source": [
        "!pip install pycryptodome\n"
      ],
      "metadata": {
        "colab": {
          "base_uri": "https://localhost:8080/"
        },
        "id": "FLeeojz98-1T",
        "outputId": "7d765e2a-fdab-4c8b-8086-02d5c9d4a70c"
      },
      "execution_count": null,
      "outputs": [
        {
          "output_type": "stream",
          "name": "stdout",
          "text": [
            "Collecting pycryptodome\n",
            "  Downloading pycryptodome-3.20.0-cp35-abi3-manylinux_2_17_x86_64.manylinux2014_x86_64.whl (2.1 MB)\n",
            "\u001b[2K     \u001b[90m━━━━━━━━━━━━━━━━━━━━━━━━━━━━━━━━━━━━━━━━\u001b[0m \u001b[32m2.1/2.1 MB\u001b[0m \u001b[31m13.3 MB/s\u001b[0m eta \u001b[36m0:00:00\u001b[0m\n",
            "\u001b[?25hInstalling collected packages: pycryptodome\n",
            "Successfully installed pycryptodome-3.20.0\n"
          ]
        }
      ]
    },
    {
      "cell_type": "code",
      "source": [
        "pip install cirq"
      ],
      "metadata": {
        "colab": {
          "base_uri": "https://localhost:8080/"
        },
        "id": "b5R5hXHl8-yv",
        "outputId": "dff9849e-82e7-4246-feb5-6aba96162a1a"
      },
      "execution_count": null,
      "outputs": [
        {
          "output_type": "stream",
          "name": "stdout",
          "text": [
            "Collecting cirq\n",
            "  Downloading cirq-1.3.0-py3-none-any.whl (8.1 kB)\n",
            "Collecting cirq-aqt==1.3.0 (from cirq)\n",
            "  Downloading cirq_aqt-1.3.0-py3-none-any.whl (27 kB)\n",
            "Collecting cirq-core==1.3.0 (from cirq)\n",
            "  Downloading cirq_core-1.3.0-py3-none-any.whl (1.8 MB)\n",
            "\u001b[2K     \u001b[90m━━━━━━━━━━━━━━━━━━━━━━━━━━━━━━━━━━━━━━━━\u001b[0m \u001b[32m1.8/1.8 MB\u001b[0m \u001b[31m8.6 MB/s\u001b[0m eta \u001b[36m0:00:00\u001b[0m\n",
            "\u001b[?25hCollecting cirq-ft==1.3.0 (from cirq)\n",
            "  Downloading cirq_ft-1.3.0-py3-none-any.whl (143 kB)\n",
            "\u001b[2K     \u001b[90m━━━━━━━━━━━━━━━━━━━━━━━━━━━━━━━━━━━━━━━━\u001b[0m \u001b[32m143.1/143.1 kB\u001b[0m \u001b[31m13.6 MB/s\u001b[0m eta \u001b[36m0:00:00\u001b[0m\n",
            "\u001b[?25hCollecting cirq-google==1.3.0 (from cirq)\n",
            "  Downloading cirq_google-1.3.0-py3-none-any.whl (598 kB)\n",
            "\u001b[2K     \u001b[90m━━━━━━━━━━━━━━━━━━━━━━━━━━━━━━━━━━━━━━━━\u001b[0m \u001b[32m598.8/598.8 kB\u001b[0m \u001b[31m16.4 MB/s\u001b[0m eta \u001b[36m0:00:00\u001b[0m\n",
            "\u001b[?25hCollecting cirq-ionq==1.3.0 (from cirq)\n",
            "  Downloading cirq_ionq-1.3.0-py3-none-any.whl (60 kB)\n",
            "\u001b[2K     \u001b[90m━━━━━━━━━━━━━━━━━━━━━━━━━━━━━━━━━━━━━━━━\u001b[0m \u001b[32m60.9/60.9 kB\u001b[0m \u001b[31m7.7 MB/s\u001b[0m eta \u001b[36m0:00:00\u001b[0m\n",
            "\u001b[?25hCollecting cirq-pasqal==1.3.0 (from cirq)\n",
            "  Downloading cirq_pasqal-1.3.0-py3-none-any.whl (31 kB)\n",
            "Collecting cirq-rigetti==1.3.0 (from cirq)\n",
            "  Downloading cirq_rigetti-1.3.0-py3-none-any.whl (66 kB)\n",
            "\u001b[2K     \u001b[90m━━━━━━━━━━━━━━━━━━━━━━━━━━━━━━━━━━━━━━━━\u001b[0m \u001b[32m66.2/66.2 kB\u001b[0m \u001b[31m8.9 MB/s\u001b[0m eta \u001b[36m0:00:00\u001b[0m\n",
            "\u001b[?25hCollecting cirq-web==1.3.0 (from cirq)\n",
            "  Downloading cirq_web-1.3.0-py3-none-any.whl (596 kB)\n",
            "\u001b[2K     \u001b[90m━━━━━━━━━━━━━━━━━━━━━━━━━━━━━━━━━━━━━━━━\u001b[0m \u001b[32m596.5/596.5 kB\u001b[0m \u001b[31m19.5 MB/s\u001b[0m eta \u001b[36m0:00:00\u001b[0m\n",
            "\u001b[?25hRequirement already satisfied: requests~=2.18 in /usr/local/lib/python3.10/dist-packages (from cirq-aqt==1.3.0->cirq) (2.31.0)\n",
            "Collecting duet~=0.2.8 (from cirq-core==1.3.0->cirq)\n",
            "  Downloading duet-0.2.9-py3-none-any.whl (29 kB)\n",
            "Requirement already satisfied: matplotlib~=3.0 in /usr/local/lib/python3.10/dist-packages (from cirq-core==1.3.0->cirq) (3.7.1)\n",
            "Requirement already satisfied: networkx>=2.4 in /usr/local/lib/python3.10/dist-packages (from cirq-core==1.3.0->cirq) (3.2.1)\n",
            "Requirement already satisfied: numpy~=1.16 in /usr/local/lib/python3.10/dist-packages (from cirq-core==1.3.0->cirq) (1.25.2)\n",
            "Requirement already satisfied: pandas in /usr/local/lib/python3.10/dist-packages (from cirq-core==1.3.0->cirq) (1.5.3)\n",
            "Requirement already satisfied: sortedcontainers~=2.0 in /usr/local/lib/python3.10/dist-packages (from cirq-core==1.3.0->cirq) (2.4.0)\n",
            "Requirement already satisfied: scipy in /usr/local/lib/python3.10/dist-packages (from cirq-core==1.3.0->cirq) (1.11.4)\n",
            "Requirement already satisfied: sympy in /usr/local/lib/python3.10/dist-packages (from cirq-core==1.3.0->cirq) (1.12)\n",
            "Requirement already satisfied: typing-extensions>=4.2 in /usr/local/lib/python3.10/dist-packages (from cirq-core==1.3.0->cirq) (4.10.0)\n",
            "Requirement already satisfied: tqdm in /usr/local/lib/python3.10/dist-packages (from cirq-core==1.3.0->cirq) (4.66.2)\n",
            "Requirement already satisfied: attrs in /usr/local/lib/python3.10/dist-packages (from cirq-ft==1.3.0->cirq) (23.2.0)\n",
            "Requirement already satisfied: cachetools>=5.3 in /usr/local/lib/python3.10/dist-packages (from cirq-ft==1.3.0->cirq) (5.3.3)\n",
            "Requirement already satisfied: ipywidgets in /usr/local/lib/python3.10/dist-packages (from cirq-ft==1.3.0->cirq) (7.7.1)\n",
            "Requirement already satisfied: nbconvert in /usr/local/lib/python3.10/dist-packages (from cirq-ft==1.3.0->cirq) (6.5.4)\n",
            "Requirement already satisfied: nbformat in /usr/local/lib/python3.10/dist-packages (from cirq-ft==1.3.0->cirq) (5.9.2)\n",
            "Requirement already satisfied: google-api-core[grpc]>=1.14.0 in /usr/local/lib/python3.10/dist-packages (from cirq-google==1.3.0->cirq) (2.11.1)\n",
            "Requirement already satisfied: proto-plus>=1.20.0 in /usr/local/lib/python3.10/dist-packages (from cirq-google==1.3.0->cirq) (1.23.0)\n",
            "Requirement already satisfied: protobuf>=3.15.0 in /usr/local/lib/python3.10/dist-packages (from cirq-google==1.3.0->cirq) (3.20.3)\n",
            "Collecting pyquil<4.0.0,>=3.2.0 (from cirq-rigetti==1.3.0->cirq)\n",
            "  Downloading pyquil-3.5.4-py3-none-any.whl (223 kB)\n",
            "\u001b[2K     \u001b[90m━━━━━━━━━━━━━━━━━━━━━━━━━━━━━━━━━━━━━━━━\u001b[0m \u001b[32m223.8/223.8 kB\u001b[0m \u001b[31m20.3 MB/s\u001b[0m eta \u001b[36m0:00:00\u001b[0m\n",
            "\u001b[?25hRequirement already satisfied: googleapis-common-protos<2.0.dev0,>=1.56.2 in /usr/local/lib/python3.10/dist-packages (from google-api-core[grpc]>=1.14.0->cirq-google==1.3.0->cirq) (1.62.0)\n",
            "Requirement already satisfied: google-auth<3.0.dev0,>=2.14.1 in /usr/local/lib/python3.10/dist-packages (from google-api-core[grpc]>=1.14.0->cirq-google==1.3.0->cirq) (2.27.0)\n",
            "Requirement already satisfied: grpcio<2.0dev,>=1.33.2 in /usr/local/lib/python3.10/dist-packages (from google-api-core[grpc]>=1.14.0->cirq-google==1.3.0->cirq) (1.62.0)\n",
            "Requirement already satisfied: grpcio-status<2.0.dev0,>=1.33.2 in /usr/local/lib/python3.10/dist-packages (from google-api-core[grpc]>=1.14.0->cirq-google==1.3.0->cirq) (1.48.2)\n",
            "Requirement already satisfied: contourpy>=1.0.1 in /usr/local/lib/python3.10/dist-packages (from matplotlib~=3.0->cirq-core==1.3.0->cirq) (1.2.0)\n",
            "Requirement already satisfied: cycler>=0.10 in /usr/local/lib/python3.10/dist-packages (from matplotlib~=3.0->cirq-core==1.3.0->cirq) (0.12.1)\n",
            "Requirement already satisfied: fonttools>=4.22.0 in /usr/local/lib/python3.10/dist-packages (from matplotlib~=3.0->cirq-core==1.3.0->cirq) (4.49.0)\n",
            "Requirement already satisfied: kiwisolver>=1.0.1 in /usr/local/lib/python3.10/dist-packages (from matplotlib~=3.0->cirq-core==1.3.0->cirq) (1.4.5)\n",
            "Requirement already satisfied: packaging>=20.0 in /usr/local/lib/python3.10/dist-packages (from matplotlib~=3.0->cirq-core==1.3.0->cirq) (23.2)\n",
            "Requirement already satisfied: pillow>=6.2.0 in /usr/local/lib/python3.10/dist-packages (from matplotlib~=3.0->cirq-core==1.3.0->cirq) (9.4.0)\n",
            "Requirement already satisfied: pyparsing>=2.3.1 in /usr/local/lib/python3.10/dist-packages (from matplotlib~=3.0->cirq-core==1.3.0->cirq) (3.1.1)\n",
            "Requirement already satisfied: python-dateutil>=2.7 in /usr/local/lib/python3.10/dist-packages (from matplotlib~=3.0->cirq-core==1.3.0->cirq) (2.8.2)\n",
            "Collecting deprecated<2.0.0,>=1.2.13 (from pyquil<4.0.0,>=3.2.0->cirq-rigetti==1.3.0->cirq)\n",
            "  Downloading Deprecated-1.2.14-py2.py3-none-any.whl (9.6 kB)\n",
            "Collecting lark<0.12.0,>=0.11.1 (from pyquil<4.0.0,>=3.2.0->cirq-rigetti==1.3.0->cirq)\n",
            "  Downloading lark-0.11.3.tar.gz (229 kB)\n",
            "\u001b[2K     \u001b[90m━━━━━━━━━━━━━━━━━━━━━━━━━━━━━━━━━━━━━━━━\u001b[0m \u001b[32m229.9/229.9 kB\u001b[0m \u001b[31m23.8 MB/s\u001b[0m eta \u001b[36m0:00:00\u001b[0m\n",
            "\u001b[?25h  Preparing metadata (setup.py) ... \u001b[?25l\u001b[?25hdone\n",
            "Collecting qcs-api-client<0.22.0,>=0.21.0 (from pyquil<4.0.0,>=3.2.0->cirq-rigetti==1.3.0->cirq)\n",
            "  Downloading qcs_api_client-0.21.6-py3-none-any.whl (151 kB)\n",
            "\u001b[2K     \u001b[90m━━━━━━━━━━━━━━━━━━━━━━━━━━━━━━━━━━━━━━━━\u001b[0m \u001b[32m151.7/151.7 kB\u001b[0m \u001b[31m16.0 MB/s\u001b[0m eta \u001b[36m0:00:00\u001b[0m\n",
            "\u001b[?25hCollecting rpcq<4.0.0,>=3.10.0 (from pyquil<4.0.0,>=3.2.0->cirq-rigetti==1.3.0->cirq)\n",
            "  Downloading rpcq-3.11.0.tar.gz (45 kB)\n",
            "\u001b[2K     \u001b[90m━━━━━━━━━━━━━━━━━━━━━━━━━━━━━━━━━━━━━━━━\u001b[0m \u001b[32m45.6/45.6 kB\u001b[0m \u001b[31m5.2 MB/s\u001b[0m eta \u001b[36m0:00:00\u001b[0m\n",
            "\u001b[?25h  Preparing metadata (setup.py) ... \u001b[?25l\u001b[?25hdone\n",
            "Requirement already satisfied: tenacity<9.0.0,>=8.2.2 in /usr/local/lib/python3.10/dist-packages (from pyquil<4.0.0,>=3.2.0->cirq-rigetti==1.3.0->cirq) (8.2.3)\n",
            "Collecting types-deprecated<2.0.0.0,>=1.2.9.2 (from pyquil<4.0.0,>=3.2.0->cirq-rigetti==1.3.0->cirq)\n",
            "  Downloading types_Deprecated-1.2.9.20240106-py3-none-any.whl (3.5 kB)\n",
            "Collecting types-python-dateutil<3.0.0,>=2.8.19 (from pyquil<4.0.0,>=3.2.0->cirq-rigetti==1.3.0->cirq)\n",
            "  Downloading types_python_dateutil-2.8.19.20240106-py3-none-any.whl (9.7 kB)\n",
            "Collecting types-retry<0.10.0,>=0.9.9 (from pyquil<4.0.0,>=3.2.0->cirq-rigetti==1.3.0->cirq)\n",
            "  Downloading types_retry-0.9.9.4-py3-none-any.whl (2.5 kB)\n",
            "Requirement already satisfied: charset-normalizer<4,>=2 in /usr/local/lib/python3.10/dist-packages (from requests~=2.18->cirq-aqt==1.3.0->cirq) (3.3.2)\n",
            "Requirement already satisfied: idna<4,>=2.5 in /usr/local/lib/python3.10/dist-packages (from requests~=2.18->cirq-aqt==1.3.0->cirq) (3.6)\n",
            "Requirement already satisfied: urllib3<3,>=1.21.1 in /usr/local/lib/python3.10/dist-packages (from requests~=2.18->cirq-aqt==1.3.0->cirq) (2.0.7)\n",
            "Requirement already satisfied: certifi>=2017.4.17 in /usr/local/lib/python3.10/dist-packages (from requests~=2.18->cirq-aqt==1.3.0->cirq) (2024.2.2)\n",
            "Requirement already satisfied: ipykernel>=4.5.1 in /usr/local/lib/python3.10/dist-packages (from ipywidgets->cirq-ft==1.3.0->cirq) (5.5.6)\n",
            "Requirement already satisfied: ipython-genutils~=0.2.0 in /usr/local/lib/python3.10/dist-packages (from ipywidgets->cirq-ft==1.3.0->cirq) (0.2.0)\n",
            "Requirement already satisfied: traitlets>=4.3.1 in /usr/local/lib/python3.10/dist-packages (from ipywidgets->cirq-ft==1.3.0->cirq) (5.7.1)\n",
            "Requirement already satisfied: widgetsnbextension~=3.6.0 in /usr/local/lib/python3.10/dist-packages (from ipywidgets->cirq-ft==1.3.0->cirq) (3.6.6)\n",
            "Requirement already satisfied: ipython>=4.0.0 in /usr/local/lib/python3.10/dist-packages (from ipywidgets->cirq-ft==1.3.0->cirq) (7.34.0)\n",
            "Requirement already satisfied: jupyterlab-widgets>=1.0.0 in /usr/local/lib/python3.10/dist-packages (from ipywidgets->cirq-ft==1.3.0->cirq) (3.0.10)\n",
            "Requirement already satisfied: lxml in /usr/local/lib/python3.10/dist-packages (from nbconvert->cirq-ft==1.3.0->cirq) (4.9.4)\n",
            "Requirement already satisfied: beautifulsoup4 in /usr/local/lib/python3.10/dist-packages (from nbconvert->cirq-ft==1.3.0->cirq) (4.12.3)\n",
            "Requirement already satisfied: bleach in /usr/local/lib/python3.10/dist-packages (from nbconvert->cirq-ft==1.3.0->cirq) (6.1.0)\n",
            "Requirement already satisfied: defusedxml in /usr/local/lib/python3.10/dist-packages (from nbconvert->cirq-ft==1.3.0->cirq) (0.7.1)\n",
            "Requirement already satisfied: entrypoints>=0.2.2 in /usr/local/lib/python3.10/dist-packages (from nbconvert->cirq-ft==1.3.0->cirq) (0.4)\n",
            "Requirement already satisfied: jinja2>=3.0 in /usr/local/lib/python3.10/dist-packages (from nbconvert->cirq-ft==1.3.0->cirq) (3.1.3)\n",
            "Requirement already satisfied: jupyter-core>=4.7 in /usr/local/lib/python3.10/dist-packages (from nbconvert->cirq-ft==1.3.0->cirq) (5.7.1)\n",
            "Requirement already satisfied: jupyterlab-pygments in /usr/local/lib/python3.10/dist-packages (from nbconvert->cirq-ft==1.3.0->cirq) (0.3.0)\n",
            "Requirement already satisfied: MarkupSafe>=2.0 in /usr/local/lib/python3.10/dist-packages (from nbconvert->cirq-ft==1.3.0->cirq) (2.1.5)\n",
            "Requirement already satisfied: mistune<2,>=0.8.1 in /usr/local/lib/python3.10/dist-packages (from nbconvert->cirq-ft==1.3.0->cirq) (0.8.4)\n",
            "Requirement already satisfied: nbclient>=0.5.0 in /usr/local/lib/python3.10/dist-packages (from nbconvert->cirq-ft==1.3.0->cirq) (0.9.0)\n",
            "Requirement already satisfied: pandocfilters>=1.4.1 in /usr/local/lib/python3.10/dist-packages (from nbconvert->cirq-ft==1.3.0->cirq) (1.5.1)\n",
            "Requirement already satisfied: pygments>=2.4.1 in /usr/local/lib/python3.10/dist-packages (from nbconvert->cirq-ft==1.3.0->cirq) (2.16.1)\n",
            "Requirement already satisfied: tinycss2 in /usr/local/lib/python3.10/dist-packages (from nbconvert->cirq-ft==1.3.0->cirq) (1.2.1)\n",
            "Requirement already satisfied: fastjsonschema in /usr/local/lib/python3.10/dist-packages (from nbformat->cirq-ft==1.3.0->cirq) (2.19.1)\n",
            "Requirement already satisfied: jsonschema>=2.6 in /usr/local/lib/python3.10/dist-packages (from nbformat->cirq-ft==1.3.0->cirq) (4.19.2)\n",
            "Requirement already satisfied: pytz>=2020.1 in /usr/local/lib/python3.10/dist-packages (from pandas->cirq-core==1.3.0->cirq) (2023.4)\n",
            "Requirement already satisfied: mpmath>=0.19 in /usr/local/lib/python3.10/dist-packages (from sympy->cirq-core==1.3.0->cirq) (1.3.0)\n",
            "Requirement already satisfied: wrapt<2,>=1.10 in /usr/local/lib/python3.10/dist-packages (from deprecated<2.0.0,>=1.2.13->pyquil<4.0.0,>=3.2.0->cirq-rigetti==1.3.0->cirq) (1.14.1)\n",
            "Requirement already satisfied: pyasn1-modules>=0.2.1 in /usr/local/lib/python3.10/dist-packages (from google-auth<3.0.dev0,>=2.14.1->google-api-core[grpc]>=1.14.0->cirq-google==1.3.0->cirq) (0.3.0)\n",
            "Requirement already satisfied: rsa<5,>=3.1.4 in /usr/local/lib/python3.10/dist-packages (from google-auth<3.0.dev0,>=2.14.1->google-api-core[grpc]>=1.14.0->cirq-google==1.3.0->cirq) (4.9)\n",
            "Requirement already satisfied: jupyter-client in /usr/local/lib/python3.10/dist-packages (from ipykernel>=4.5.1->ipywidgets->cirq-ft==1.3.0->cirq) (6.1.12)\n",
            "Requirement already satisfied: tornado>=4.2 in /usr/local/lib/python3.10/dist-packages (from ipykernel>=4.5.1->ipywidgets->cirq-ft==1.3.0->cirq) (6.3.3)\n",
            "Requirement already satisfied: setuptools>=18.5 in /usr/local/lib/python3.10/dist-packages (from ipython>=4.0.0->ipywidgets->cirq-ft==1.3.0->cirq) (67.7.2)\n",
            "Collecting jedi>=0.16 (from ipython>=4.0.0->ipywidgets->cirq-ft==1.3.0->cirq)\n",
            "  Downloading jedi-0.19.1-py2.py3-none-any.whl (1.6 MB)\n",
            "\u001b[2K     \u001b[90m━━━━━━━━━━━━━━━━━━━━━━━━━━━━━━━━━━━━━━━━\u001b[0m \u001b[32m1.6/1.6 MB\u001b[0m \u001b[31m26.7 MB/s\u001b[0m eta \u001b[36m0:00:00\u001b[0m\n",
            "\u001b[?25hRequirement already satisfied: decorator in /usr/local/lib/python3.10/dist-packages (from ipython>=4.0.0->ipywidgets->cirq-ft==1.3.0->cirq) (4.4.2)\n",
            "Requirement already satisfied: pickleshare in /usr/local/lib/python3.10/dist-packages (from ipython>=4.0.0->ipywidgets->cirq-ft==1.3.0->cirq) (0.7.5)\n",
            "Requirement already satisfied: prompt-toolkit!=3.0.0,!=3.0.1,<3.1.0,>=2.0.0 in /usr/local/lib/python3.10/dist-packages (from ipython>=4.0.0->ipywidgets->cirq-ft==1.3.0->cirq) (3.0.43)\n",
            "Requirement already satisfied: backcall in /usr/local/lib/python3.10/dist-packages (from ipython>=4.0.0->ipywidgets->cirq-ft==1.3.0->cirq) (0.2.0)\n",
            "Requirement already satisfied: matplotlib-inline in /usr/local/lib/python3.10/dist-packages (from ipython>=4.0.0->ipywidgets->cirq-ft==1.3.0->cirq) (0.1.6)\n",
            "Requirement already satisfied: pexpect>4.3 in /usr/local/lib/python3.10/dist-packages (from ipython>=4.0.0->ipywidgets->cirq-ft==1.3.0->cirq) (4.9.0)\n",
            "Requirement already satisfied: jsonschema-specifications>=2023.03.6 in /usr/local/lib/python3.10/dist-packages (from jsonschema>=2.6->nbformat->cirq-ft==1.3.0->cirq) (2023.12.1)\n",
            "Requirement already satisfied: referencing>=0.28.4 in /usr/local/lib/python3.10/dist-packages (from jsonschema>=2.6->nbformat->cirq-ft==1.3.0->cirq) (0.33.0)\n",
            "Requirement already satisfied: rpds-py>=0.7.1 in /usr/local/lib/python3.10/dist-packages (from jsonschema>=2.6->nbformat->cirq-ft==1.3.0->cirq) (0.18.0)\n",
            "Requirement already satisfied: platformdirs>=2.5 in /usr/local/lib/python3.10/dist-packages (from jupyter-core>=4.7->nbconvert->cirq-ft==1.3.0->cirq) (4.2.0)\n",
            "Requirement already satisfied: six>=1.5 in /usr/local/lib/python3.10/dist-packages (from python-dateutil>=2.7->matplotlib~=3.0->cirq-core==1.3.0->cirq) (1.16.0)\n",
            "Collecting PyJWT<3.0.0,>=2.4.0 (from qcs-api-client<0.22.0,>=0.21.0->pyquil<4.0.0,>=3.2.0->cirq-rigetti==1.3.0->cirq)\n",
            "  Downloading PyJWT-2.8.0-py3-none-any.whl (22 kB)\n",
            "INFO: pip is looking at multiple versions of qcs-api-client to determine which version is compatible with other requirements. This could take a while.\n",
            "Collecting qcs-api-client<0.22.0,>=0.21.0 (from pyquil<4.0.0,>=3.2.0->cirq-rigetti==1.3.0->cirq)\n",
            "  Downloading qcs_api_client-0.21.5-py3-none-any.whl (151 kB)\n",
            "\u001b[2K     \u001b[90m━━━━━━━━━━━━━━━━━━━━━━━━━━━━━━━━━━━━━━━━\u001b[0m \u001b[32m151.7/151.7 kB\u001b[0m \u001b[31m15.6 MB/s\u001b[0m eta \u001b[36m0:00:00\u001b[0m\n",
            "\u001b[?25h  Downloading qcs_api_client-0.21.4-py3-none-any.whl (151 kB)\n",
            "\u001b[2K     \u001b[90m━━━━━━━━━━━━━━━━━━━━━━━━━━━━━━━━━━━━━━━━\u001b[0m \u001b[32m151.7/151.7 kB\u001b[0m \u001b[31m16.6 MB/s\u001b[0m eta \u001b[36m0:00:00\u001b[0m\n",
            "\u001b[?25h  Downloading qcs_api_client-0.21.3-py3-none-any.whl (147 kB)\n",
            "\u001b[2K     \u001b[90m━━━━━━━━━━━━━━━━━━━━━━━━━━━━━━━━━━━━━━━━\u001b[0m \u001b[32m147.4/147.4 kB\u001b[0m \u001b[31m15.3 MB/s\u001b[0m eta \u001b[36m0:00:00\u001b[0m\n",
            "\u001b[?25h  Downloading qcs_api_client-0.21.2-py3-none-any.whl (147 kB)\n",
            "\u001b[2K     \u001b[90m━━━━━━━━━━━━━━━━━━━━━━━━━━━━━━━━━━━━━━━━\u001b[0m \u001b[32m147.4/147.4 kB\u001b[0m \u001b[31m14.8 MB/s\u001b[0m eta \u001b[36m0:00:00\u001b[0m\n",
            "\u001b[?25h  Downloading qcs_api_client-0.21.1-py3-none-any.whl (147 kB)\n",
            "\u001b[2K     \u001b[90m━━━━━━━━━━━━━━━━━━━━━━━━━━━━━━━━━━━━━━━━\u001b[0m \u001b[32m147.4/147.4 kB\u001b[0m \u001b[31m14.9 MB/s\u001b[0m eta \u001b[36m0:00:00\u001b[0m\n",
            "\u001b[?25h  Downloading qcs_api_client-0.21.0-py3-none-any.whl (142 kB)\n",
            "\u001b[2K     \u001b[90m━━━━━━━━━━━━━━━━━━━━━━━━━━━━━━━━━━━━━━━━\u001b[0m \u001b[32m142.7/142.7 kB\u001b[0m \u001b[31m15.3 MB/s\u001b[0m eta \u001b[36m0:00:00\u001b[0m\n",
            "\u001b[?25hCollecting jsonschema>=2.6 (from nbformat->cirq-ft==1.3.0->cirq)\n",
            "  Downloading jsonschema-4.21.1-py3-none-any.whl (85 kB)\n",
            "\u001b[2K     \u001b[90m━━━━━━━━━━━━━━━━━━━━━━━━━━━━━━━━━━━━━━━━\u001b[0m \u001b[32m85.5/85.5 kB\u001b[0m \u001b[31m9.2 MB/s\u001b[0m eta \u001b[36m0:00:00\u001b[0m\n",
            "\u001b[?25hINFO: pip is looking at multiple versions of qcs-api-client to determine which version is compatible with other requirements. This could take a while.\n",
            "INFO: This is taking longer than usual. You might need to provide the dependency resolver with stricter constraints to reduce runtime. See https://pip.pypa.io/warnings/backtracking for guidance. If you want to abort this run, press Ctrl + C.\n",
            "  Downloading jsonschema-4.21.0-py3-none-any.whl (85 kB)\n",
            "\u001b[2K     \u001b[90m━━━━━━━━━━━━━━━━━━━━━━━━━━━━━━━━━━━━━━━━\u001b[0m \u001b[32m85.1/85.1 kB\u001b[0m \u001b[31m8.2 MB/s\u001b[0m eta \u001b[36m0:00:00\u001b[0m\n",
            "\u001b[?25h  Downloading jsonschema-4.20.0-py3-none-any.whl (84 kB)\n",
            "\u001b[2K     \u001b[90m━━━━━━━━━━━━━━━━━━━━━━━━━━━━━━━━━━━━━━━━\u001b[0m \u001b[32m84.7/84.7 kB\u001b[0m \u001b[31m9.6 MB/s\u001b[0m eta \u001b[36m0:00:00\u001b[0m\n",
            "\u001b[?25h  Downloading jsonschema-4.19.2-py3-none-any.whl (83 kB)\n",
            "\u001b[2K     \u001b[90m━━━━━━━━━━━━━━━━━━━━━━━━━━━━━━━━━━━━━━━━\u001b[0m \u001b[32m83.6/83.6 kB\u001b[0m \u001b[31m8.9 MB/s\u001b[0m eta \u001b[36m0:00:00\u001b[0m\n",
            "\u001b[?25h  Downloading jsonschema-4.19.1-py3-none-any.whl (83 kB)\n",
            "\u001b[2K     \u001b[90m━━━━━━━━━━━━━━━━━━━━━━━━━━━━━━━━━━━━━━━━\u001b[0m \u001b[32m83.3/83.3 kB\u001b[0m \u001b[31m10.2 MB/s\u001b[0m eta \u001b[36m0:00:00\u001b[0m\n",
            "\u001b[?25h  Downloading jsonschema-4.19.0-py3-none-any.whl (83 kB)\n",
            "\u001b[2K     \u001b[90m━━━━━━━━━━━━━━━━━━━━━━━━━━━━━━━━━━━━━━━━\u001b[0m \u001b[32m83.4/83.4 kB\u001b[0m \u001b[31m12.4 MB/s\u001b[0m eta \u001b[36m0:00:00\u001b[0m\n",
            "\u001b[?25h  Downloading jsonschema-4.18.6-py3-none-any.whl (83 kB)\n",
            "\u001b[2K     \u001b[90m━━━━━━━━━━━━━━━━━━━━━━━━━━━━━━━━━━━━━━━━\u001b[0m \u001b[32m83.2/83.2 kB\u001b[0m \u001b[31m11.0 MB/s\u001b[0m eta \u001b[36m0:00:00\u001b[0m\n",
            "\u001b[?25h  Downloading jsonschema-4.18.5-py3-none-any.whl (82 kB)\n",
            "\u001b[2K     \u001b[90m━━━━━━━━━━━━━━━━━━━━━━━━━━━━━━━━━━━━━━━━\u001b[0m \u001b[32m82.5/82.5 kB\u001b[0m \u001b[31m11.1 MB/s\u001b[0m eta \u001b[36m0:00:00\u001b[0m\n",
            "\u001b[?25h  Downloading jsonschema-4.18.4-py3-none-any.whl (80 kB)\n",
            "\u001b[2K     \u001b[90m━━━━━━━━━━━━━━━━━━━━━━━━━━━━━━━━━━━━━━━━\u001b[0m \u001b[32m81.0/81.0 kB\u001b[0m \u001b[31m5.8 MB/s\u001b[0m eta \u001b[36m0:00:00\u001b[0m\n",
            "\u001b[?25h  Downloading jsonschema-4.18.3-py3-none-any.whl (80 kB)\n",
            "\u001b[2K     \u001b[90m━━━━━━━━━━━━━━━━━━━━━━━━━━━━━━━━━━━━━━━━\u001b[0m \u001b[32m81.0/81.0 kB\u001b[0m \u001b[31m11.3 MB/s\u001b[0m eta \u001b[36m0:00:00\u001b[0m\n",
            "\u001b[?25h  Downloading jsonschema-4.18.2-py3-none-any.whl (80 kB)\n",
            "\u001b[2K     \u001b[90m━━━━━━━━━━━━━━━━━━━━━━━━━━━━━━━━━━━━━━━━\u001b[0m \u001b[32m80.8/80.8 kB\u001b[0m \u001b[31m10.9 MB/s\u001b[0m eta \u001b[36m0:00:00\u001b[0m\n",
            "\u001b[?25h  Downloading jsonschema-4.18.1-py3-none-any.whl (80 kB)\n",
            "\u001b[2K     \u001b[90m━━━━━━━━━━━━━━━━━━━━━━━━━━━━━━━━━━━━━━━━\u001b[0m \u001b[32m80.7/80.7 kB\u001b[0m \u001b[31m11.0 MB/s\u001b[0m eta \u001b[36m0:00:00\u001b[0m\n",
            "\u001b[?25h  Downloading jsonschema-4.18.0-py3-none-any.whl (81 kB)\n",
            "\u001b[2K     \u001b[90m━━━━━━━━━━━━━━━━━━━━━━━━━━━━━━━━━━━━━━━━\u001b[0m \u001b[32m81.5/81.5 kB\u001b[0m \u001b[31m10.2 MB/s\u001b[0m eta \u001b[36m0:00:00\u001b[0m\n",
            "\u001b[?25h  Downloading jsonschema-4.17.3-py3-none-any.whl (90 kB)\n",
            "\u001b[2K     \u001b[90m━━━━━━━━━━━━━━━━━━━━━━━━━━━━━━━━━━━━━━━━\u001b[0m \u001b[32m90.4/90.4 kB\u001b[0m \u001b[31m11.6 MB/s\u001b[0m eta \u001b[36m0:00:00\u001b[0m\n",
            "\u001b[?25hCollecting pyrsistent!=0.17.0,!=0.17.1,!=0.17.2,>=0.14.0 (from jsonschema>=2.6->nbformat->cirq-ft==1.3.0->cirq)\n",
            "  Downloading pyrsistent-0.20.0-cp310-cp310-manylinux_2_17_x86_64.manylinux2014_x86_64.whl (117 kB)\n",
            "\u001b[2K     \u001b[90m━━━━━━━━━━━━━━━━━━━━━━━━━━━━━━━━━━━━━━━━\u001b[0m \u001b[32m117.7/117.7 kB\u001b[0m \u001b[31m13.8 MB/s\u001b[0m eta \u001b[36m0:00:00\u001b[0m\n",
            "\u001b[?25hCollecting attrs (from cirq-ft==1.3.0->cirq)\n",
            "  Downloading attrs-21.4.0-py2.py3-none-any.whl (60 kB)\n",
            "\u001b[2K     \u001b[90m━━━━━━━━━━━━━━━━━━━━━━━━━━━━━━━━━━━━━━━━\u001b[0m \u001b[32m60.6/60.6 kB\u001b[0m \u001b[31m7.5 MB/s\u001b[0m eta \u001b[36m0:00:00\u001b[0m\n",
            "\u001b[?25hCollecting httpx<0.24.0,>=0.23.0 (from qcs-api-client<0.22.0,>=0.21.0->pyquil<4.0.0,>=3.2.0->cirq-rigetti==1.3.0->cirq)\n",
            "  Downloading httpx-0.23.3-py3-none-any.whl (71 kB)\n",
            "\u001b[2K     \u001b[90m━━━━━━━━━━━━━━━━━━━━━━━━━━━━━━━━━━━━━━━━\u001b[0m \u001b[32m71.5/71.5 kB\u001b[0m \u001b[31m9.5 MB/s\u001b[0m eta \u001b[36m0:00:00\u001b[0m\n",
            "\u001b[?25hCollecting iso8601<2.0.0,>=1.0.2 (from qcs-api-client<0.22.0,>=0.21.0->pyquil<4.0.0,>=3.2.0->cirq-rigetti==1.3.0->cirq)\n",
            "  Downloading iso8601-1.1.0-py3-none-any.whl (9.9 kB)\n",
            "Collecting pydantic<2.0.0,>=1.7.2 (from qcs-api-client<0.22.0,>=0.21.0->pyquil<4.0.0,>=3.2.0->cirq-rigetti==1.3.0->cirq)\n",
            "  Downloading pydantic-1.10.14-cp310-cp310-manylinux_2_17_x86_64.manylinux2014_x86_64.whl (3.1 MB)\n",
            "\u001b[2K     \u001b[90m━━━━━━━━━━━━━━━━━━━━━━━━━━━━━━━━━━━━━━━━\u001b[0m \u001b[32m3.1/3.1 MB\u001b[0m \u001b[31m34.5 MB/s\u001b[0m eta \u001b[36m0:00:00\u001b[0m\n",
            "\u001b[?25hCollecting retrying<2.0.0,>=1.3.3 (from qcs-api-client<0.22.0,>=0.21.0->pyquil<4.0.0,>=3.2.0->cirq-rigetti==1.3.0->cirq)\n",
            "  Downloading retrying-1.3.4-py3-none-any.whl (11 kB)\n",
            "Collecting rfc3339<7.0,>=6.2 (from qcs-api-client<0.22.0,>=0.21.0->pyquil<4.0.0,>=3.2.0->cirq-rigetti==1.3.0->cirq)\n",
            "  Downloading rfc3339-6.2-py3-none-any.whl (5.5 kB)\n",
            "Requirement already satisfied: toml<0.11.0,>=0.10.2 in /usr/local/lib/python3.10/dist-packages (from qcs-api-client<0.22.0,>=0.21.0->pyquil<4.0.0,>=3.2.0->cirq-rigetti==1.3.0->cirq) (0.10.2)\n",
            "Requirement already satisfied: msgpack<2.0,>=0.6 in /usr/local/lib/python3.10/dist-packages (from rpcq<4.0.0,>=3.10.0->pyquil<4.0.0,>=3.2.0->cirq-rigetti==1.3.0->cirq) (1.0.8)\n",
            "Collecting python-rapidjson (from rpcq<4.0.0,>=3.10.0->pyquil<4.0.0,>=3.2.0->cirq-rigetti==1.3.0->cirq)\n",
            "  Downloading python_rapidjson-1.16-cp310-cp310-manylinux_2_17_x86_64.manylinux2014_x86_64.whl (1.7 MB)\n",
            "\u001b[2K     \u001b[90m━━━━━━━━━━━━━━━━━━━━━━━━━━━━━━━━━━━━━━━━\u001b[0m \u001b[32m1.7/1.7 MB\u001b[0m \u001b[31m42.6 MB/s\u001b[0m eta \u001b[36m0:00:00\u001b[0m\n",
            "\u001b[?25hRequirement already satisfied: pyzmq>=17 in /usr/local/lib/python3.10/dist-packages (from rpcq<4.0.0,>=3.10.0->pyquil<4.0.0,>=3.2.0->cirq-rigetti==1.3.0->cirq) (23.2.1)\n",
            "Collecting ruamel.yaml (from rpcq<4.0.0,>=3.10.0->pyquil<4.0.0,>=3.2.0->cirq-rigetti==1.3.0->cirq)\n",
            "  Downloading ruamel.yaml-0.18.6-py3-none-any.whl (117 kB)\n",
            "\u001b[2K     \u001b[90m━━━━━━━━━━━━━━━━━━━━━━━━━━━━━━━━━━━━━━━━\u001b[0m \u001b[32m117.8/117.8 kB\u001b[0m \u001b[31m14.8 MB/s\u001b[0m eta \u001b[36m0:00:00\u001b[0m\n",
            "\u001b[?25hRequirement already satisfied: notebook>=4.4.1 in /usr/local/lib/python3.10/dist-packages (from widgetsnbextension~=3.6.0->ipywidgets->cirq-ft==1.3.0->cirq) (6.5.5)\n",
            "Requirement already satisfied: soupsieve>1.2 in /usr/local/lib/python3.10/dist-packages (from beautifulsoup4->nbconvert->cirq-ft==1.3.0->cirq) (2.5)\n",
            "Requirement already satisfied: webencodings in /usr/local/lib/python3.10/dist-packages (from bleach->nbconvert->cirq-ft==1.3.0->cirq) (0.5.1)\n",
            "Collecting httpcore<0.17.0,>=0.15.0 (from httpx<0.24.0,>=0.23.0->qcs-api-client<0.22.0,>=0.21.0->pyquil<4.0.0,>=3.2.0->cirq-rigetti==1.3.0->cirq)\n",
            "  Downloading httpcore-0.16.3-py3-none-any.whl (69 kB)\n",
            "\u001b[2K     \u001b[90m━━━━━━━━━━━━━━━━━━━━━━━━━━━━━━━━━━━━━━━━\u001b[0m \u001b[32m69.6/69.6 kB\u001b[0m \u001b[31m7.6 MB/s\u001b[0m eta \u001b[36m0:00:00\u001b[0m\n",
            "\u001b[?25hCollecting rfc3986[idna2008]<2,>=1.3 (from httpx<0.24.0,>=0.23.0->qcs-api-client<0.22.0,>=0.21.0->pyquil<4.0.0,>=3.2.0->cirq-rigetti==1.3.0->cirq)\n",
            "  Downloading rfc3986-1.5.0-py2.py3-none-any.whl (31 kB)\n",
            "Requirement already satisfied: sniffio in /usr/local/lib/python3.10/dist-packages (from httpx<0.24.0,>=0.23.0->qcs-api-client<0.22.0,>=0.21.0->pyquil<4.0.0,>=3.2.0->cirq-rigetti==1.3.0->cirq) (1.3.1)\n",
            "Requirement already satisfied: parso<0.9.0,>=0.8.3 in /usr/local/lib/python3.10/dist-packages (from jedi>=0.16->ipython>=4.0.0->ipywidgets->cirq-ft==1.3.0->cirq) (0.8.3)\n",
            "Requirement already satisfied: argon2-cffi in /usr/local/lib/python3.10/dist-packages (from notebook>=4.4.1->widgetsnbextension~=3.6.0->ipywidgets->cirq-ft==1.3.0->cirq) (23.1.0)\n",
            "Requirement already satisfied: nest-asyncio>=1.5 in /usr/local/lib/python3.10/dist-packages (from notebook>=4.4.1->widgetsnbextension~=3.6.0->ipywidgets->cirq-ft==1.3.0->cirq) (1.6.0)\n",
            "Requirement already satisfied: Send2Trash>=1.8.0 in /usr/local/lib/python3.10/dist-packages (from notebook>=4.4.1->widgetsnbextension~=3.6.0->ipywidgets->cirq-ft==1.3.0->cirq) (1.8.2)\n",
            "Requirement already satisfied: terminado>=0.8.3 in /usr/local/lib/python3.10/dist-packages (from notebook>=4.4.1->widgetsnbextension~=3.6.0->ipywidgets->cirq-ft==1.3.0->cirq) (0.18.0)\n",
            "Requirement already satisfied: prometheus-client in /usr/local/lib/python3.10/dist-packages (from notebook>=4.4.1->widgetsnbextension~=3.6.0->ipywidgets->cirq-ft==1.3.0->cirq) (0.20.0)\n",
            "Requirement already satisfied: nbclassic>=0.4.7 in /usr/local/lib/python3.10/dist-packages (from notebook>=4.4.1->widgetsnbextension~=3.6.0->ipywidgets->cirq-ft==1.3.0->cirq) (1.0.0)\n",
            "Requirement already satisfied: ptyprocess>=0.5 in /usr/local/lib/python3.10/dist-packages (from pexpect>4.3->ipython>=4.0.0->ipywidgets->cirq-ft==1.3.0->cirq) (0.7.0)\n",
            "Requirement already satisfied: wcwidth in /usr/local/lib/python3.10/dist-packages (from prompt-toolkit!=3.0.0,!=3.0.1,<3.1.0,>=2.0.0->ipython>=4.0.0->ipywidgets->cirq-ft==1.3.0->cirq) (0.2.13)\n",
            "Requirement already satisfied: pyasn1<0.6.0,>=0.4.6 in /usr/local/lib/python3.10/dist-packages (from pyasn1-modules>=0.2.1->google-auth<3.0.dev0,>=2.14.1->google-api-core[grpc]>=1.14.0->cirq-google==1.3.0->cirq) (0.5.1)\n",
            "Collecting ruamel.yaml.clib>=0.2.7 (from ruamel.yaml->rpcq<4.0.0,>=3.10.0->pyquil<4.0.0,>=3.2.0->cirq-rigetti==1.3.0->cirq)\n",
            "  Downloading ruamel.yaml.clib-0.2.8-cp310-cp310-manylinux_2_17_x86_64.manylinux2014_x86_64.manylinux_2_24_x86_64.whl (526 kB)\n",
            "\u001b[2K     \u001b[90m━━━━━━━━━━━━━━━━━━━━━━━━━━━━━━━━━━━━━━━━\u001b[0m \u001b[32m526.7/526.7 kB\u001b[0m \u001b[31m42.1 MB/s\u001b[0m eta \u001b[36m0:00:00\u001b[0m\n",
            "\u001b[?25hCollecting h11<0.15,>=0.13 (from httpcore<0.17.0,>=0.15.0->httpx<0.24.0,>=0.23.0->qcs-api-client<0.22.0,>=0.21.0->pyquil<4.0.0,>=3.2.0->cirq-rigetti==1.3.0->cirq)\n",
            "  Downloading h11-0.14.0-py3-none-any.whl (58 kB)\n",
            "\u001b[2K     \u001b[90m━━━━━━━━━━━━━━━━━━━━━━━━━━━━━━━━━━━━━━━━\u001b[0m \u001b[32m58.3/58.3 kB\u001b[0m \u001b[31m8.2 MB/s\u001b[0m eta \u001b[36m0:00:00\u001b[0m\n",
            "\u001b[?25hRequirement already satisfied: anyio<5.0,>=3.0 in /usr/local/lib/python3.10/dist-packages (from httpcore<0.17.0,>=0.15.0->httpx<0.24.0,>=0.23.0->qcs-api-client<0.22.0,>=0.21.0->pyquil<4.0.0,>=3.2.0->cirq-rigetti==1.3.0->cirq) (3.7.1)\n",
            "Requirement already satisfied: jupyter-server>=1.8 in /usr/local/lib/python3.10/dist-packages (from nbclassic>=0.4.7->notebook>=4.4.1->widgetsnbextension~=3.6.0->ipywidgets->cirq-ft==1.3.0->cirq) (1.24.0)\n",
            "Requirement already satisfied: notebook-shim>=0.2.3 in /usr/local/lib/python3.10/dist-packages (from nbclassic>=0.4.7->notebook>=4.4.1->widgetsnbextension~=3.6.0->ipywidgets->cirq-ft==1.3.0->cirq) (0.2.4)\n",
            "Requirement already satisfied: argon2-cffi-bindings in /usr/local/lib/python3.10/dist-packages (from argon2-cffi->notebook>=4.4.1->widgetsnbextension~=3.6.0->ipywidgets->cirq-ft==1.3.0->cirq) (21.2.0)\n",
            "Requirement already satisfied: exceptiongroup in /usr/local/lib/python3.10/dist-packages (from anyio<5.0,>=3.0->httpcore<0.17.0,>=0.15.0->httpx<0.24.0,>=0.23.0->qcs-api-client<0.22.0,>=0.21.0->pyquil<4.0.0,>=3.2.0->cirq-rigetti==1.3.0->cirq) (1.2.0)\n",
            "Requirement already satisfied: websocket-client in /usr/local/lib/python3.10/dist-packages (from jupyter-server>=1.8->nbclassic>=0.4.7->notebook>=4.4.1->widgetsnbextension~=3.6.0->ipywidgets->cirq-ft==1.3.0->cirq) (1.7.0)\n",
            "Requirement already satisfied: cffi>=1.0.1 in /usr/local/lib/python3.10/dist-packages (from argon2-cffi-bindings->argon2-cffi->notebook>=4.4.1->widgetsnbextension~=3.6.0->ipywidgets->cirq-ft==1.3.0->cirq) (1.16.0)\n",
            "Requirement already satisfied: pycparser in /usr/local/lib/python3.10/dist-packages (from cffi>=1.0.1->argon2-cffi-bindings->argon2-cffi->notebook>=4.4.1->widgetsnbextension~=3.6.0->ipywidgets->cirq-ft==1.3.0->cirq) (2.21)\n",
            "Building wheels for collected packages: lark, rpcq\n",
            "  Building wheel for lark (setup.py) ... \u001b[?25l\u001b[?25hdone\n",
            "  Created wheel for lark: filename=lark-0.11.3-py2.py3-none-any.whl size=99630 sha256=7906d258256ac7a97222ba7aa99c4d24a0f78006e5c94b9f55cc04ccfb9535ba\n",
            "  Stored in directory: /root/.cache/pip/wheels/7d/72/22/a2dbd112cf05c55adf2e1ead5fba8aa527b848f01cdd99687c\n",
            "  Building wheel for rpcq (setup.py) ... \u001b[?25l\u001b[?25hdone\n",
            "  Created wheel for rpcq: filename=rpcq-3.11.0-py3-none-any.whl size=45966 sha256=05315d6bd2ffe13598e876bd66a97459a084ec6eee75928f7350b593189072c0\n",
            "  Stored in directory: /root/.cache/pip/wheels/91/97/0a/b384d94155345284ec00712ab814cbfb5bc2b631080b4fa4c3\n",
            "Successfully built lark rpcq\n",
            "Installing collected packages: types-retry, rfc3986, rfc3339, lark, types-python-dateutil, types-deprecated, ruamel.yaml.clib, retrying, python-rapidjson, pyrsistent, PyJWT, pydantic, jedi, iso8601, h11, duet, deprecated, attrs, ruamel.yaml, jsonschema, httpcore, rpcq, httpx, cirq-core, qcs-api-client, cirq-web, cirq-pasqal, cirq-ionq, cirq-aqt, pyquil, cirq-google, cirq-rigetti, cirq-ft, cirq\n",
            "  Attempting uninstall: PyJWT\n",
            "    Found existing installation: PyJWT 2.3.0\n",
            "    Uninstalling PyJWT-2.3.0:\n",
            "      Successfully uninstalled PyJWT-2.3.0\n",
            "  Attempting uninstall: pydantic\n",
            "    Found existing installation: pydantic 2.6.3\n",
            "    Uninstalling pydantic-2.6.3:\n",
            "      Successfully uninstalled pydantic-2.6.3\n",
            "  Attempting uninstall: attrs\n",
            "    Found existing installation: attrs 23.2.0\n",
            "    Uninstalling attrs-23.2.0:\n",
            "      Successfully uninstalled attrs-23.2.0\n",
            "  Attempting uninstall: jsonschema\n",
            "    Found existing installation: jsonschema 4.19.2\n",
            "    Uninstalling jsonschema-4.19.2:\n",
            "      Successfully uninstalled jsonschema-4.19.2\n",
            "\u001b[31mERROR: pip's dependency resolver does not currently take into account all the packages that are installed. This behaviour is the source of the following dependency conflicts.\n",
            "referencing 0.33.0 requires attrs>=22.2.0, but you have attrs 21.4.0 which is incompatible.\u001b[0m\u001b[31m\n",
            "\u001b[0mSuccessfully installed PyJWT-2.8.0 attrs-21.4.0 cirq-1.3.0 cirq-aqt-1.3.0 cirq-core-1.3.0 cirq-ft-1.3.0 cirq-google-1.3.0 cirq-ionq-1.3.0 cirq-pasqal-1.3.0 cirq-rigetti-1.3.0 cirq-web-1.3.0 deprecated-1.2.14 duet-0.2.9 h11-0.14.0 httpcore-0.16.3 httpx-0.23.3 iso8601-1.1.0 jedi-0.19.1 jsonschema-4.17.3 lark-0.11.3 pydantic-1.10.14 pyquil-3.5.4 pyrsistent-0.20.0 python-rapidjson-1.16 qcs-api-client-0.21.6 retrying-1.3.4 rfc3339-6.2 rfc3986-1.5.0 rpcq-3.11.0 ruamel.yaml-0.18.6 ruamel.yaml.clib-0.2.8 types-deprecated-1.2.9.20240106 types-python-dateutil-2.8.19.20240106 types-retry-0.9.9.4\n"
          ]
        }
      ]
    },
    {
      "cell_type": "code",
      "source": [
        "pip install phe"
      ],
      "metadata": {
        "colab": {
          "base_uri": "https://localhost:8080/"
        },
        "id": "4XCBF7zy8-mu",
        "outputId": "d01cd921-ac5a-4b54-a961-02f927696c43"
      },
      "execution_count": null,
      "outputs": [
        {
          "output_type": "stream",
          "name": "stdout",
          "text": [
            "Collecting phe\n",
            "  Downloading phe-1.5.0-py2.py3-none-any.whl (53 kB)\n",
            "\u001b[?25l     \u001b[90m━━━━━━━━━━━━━━━━━━━━━━━━━━━━━━━━━━━━━━━━\u001b[0m \u001b[32m0.0/53.7 kB\u001b[0m \u001b[31m?\u001b[0m eta \u001b[36m-:--:--\u001b[0m\r\u001b[2K     \u001b[90m━━━━━━━━━━━━━━━━━━━━━━━━━━━━━━━━━━━━━━━━\u001b[0m \u001b[32m53.7/53.7 kB\u001b[0m \u001b[31m2.2 MB/s\u001b[0m eta \u001b[36m0:00:00\u001b[0m\n",
            "\u001b[?25hInstalling collected packages: phe\n",
            "Successfully installed phe-1.5.0\n"
          ]
        }
      ]
    },
    {
      "cell_type": "code",
      "source": [
        "pip install cryptography"
      ],
      "metadata": {
        "colab": {
          "base_uri": "https://localhost:8080/"
        },
        "id": "FcWK6xEA-g1e",
        "outputId": "c51ecc66-03c7-4ae7-878c-2510f8d95108"
      },
      "execution_count": null,
      "outputs": [
        {
          "output_type": "stream",
          "name": "stdout",
          "text": [
            "Requirement already satisfied: cryptography in /usr/local/lib/python3.10/dist-packages (42.0.5)\n",
            "Requirement already satisfied: cffi>=1.12 in /usr/local/lib/python3.10/dist-packages (from cryptography) (1.16.0)\n",
            "Requirement already satisfied: pycparser in /usr/local/lib/python3.10/dist-packages (from cffi>=1.12->cryptography) (2.21)\n"
          ]
        }
      ]
    },
    {
      "cell_type": "code",
      "source": [
        "from sklearn.cluster import KMeans"
      ],
      "metadata": {
        "id": "3gB5xLSP-gyg"
      },
      "execution_count": null,
      "outputs": []
    },
    {
      "cell_type": "code",
      "source": [
        "import os"
      ],
      "metadata": {
        "id": "6tWUsJ0i-gvY"
      },
      "execution_count": null,
      "outputs": []
    },
    {
      "cell_type": "code",
      "source": [
        "import cv2\n",
        "from tqdm import tqdm_notebook as tqdm\n",
        "import zipfile\n",
        "import io\n",
        "import pandas as pd\n",
        "import numpy as np\n",
        "import matplotlib.pyplot as plt\n",
        "import warnings\n",
        "warnings.filterwarnings(\"ignore\")"
      ],
      "metadata": {
        "id": "ZnmP9sAF-rNy"
      },
      "execution_count": null,
      "outputs": []
    },
    {
      "cell_type": "code",
      "source": [
        "import pandas as pd\n",
        "\n",
        "# Specify the path to the CSV file\n",
        "csv_file_path = '/content/medicine_data.csv'\n",
        "\n",
        "# Read the CSV file into a DataFrame\n",
        "df = pd.read_csv(csv_file_path)\n",
        "\n",
        "# Display the DataFrame\n",
        "print(df.head())"
      ],
      "metadata": {
        "colab": {
          "base_uri": "https://localhost:8080/"
        },
        "id": "1uCyM0Cu-rLP",
        "outputId": "13f87843-ddc2-4ea5-9b0d-2f79198c2b48"
      },
      "execution_count": null,
      "outputs": [
        {
          "output_type": "stream",
          "name": "stdout",
          "text": [
            "          sub_category                                       product_name  \\\n",
            "0  Human Insulin Basal  Human Insulatard 40IU/ml Suspension for Injection   \n",
            "1  Human Insulin Basal                          Insulin 40IU/ml Injection   \n",
            "2  Human Insulin Basal                     Huminsulin N 40IU/ml Injection   \n",
            "3  Human Insulin Basal                        Insugen-N 40IU/ml Injection   \n",
            "4  Human Insulin Basal                        Insulatard 100IU/ml Flexpen   \n",
            "\n",
            "              salt_composition product_price  \\\n",
            "0      Insulin Isophane (40IU)       ₹133.93   \n",
            "1      Insulin Isophane (40IU)       ₹121.91   \n",
            "2      Insulin Isophane (40IU)       ₹133.45   \n",
            "3      Insulin Isophane (40IU)       ₹133.36   \n",
            "4  Insulin Isophane (100IU/ml)       ₹401.03   \n",
            "\n",
            "                  product_manufactured  \\\n",
            "0           Novo Nordisk India Pvt Ltd   \n",
            "1    Sun Pharmaceutical Industries Ltd   \n",
            "2  Eli Lilly and Company India Pvt Ltd   \n",
            "3                               Biocon   \n",
            "4           Novo Nordisk India Pvt Ltd   \n",
            "\n",
            "                                       medicine_desc  \\\n",
            "0  Human Insulatard 40IU/ml Suspension for Inject...   \n",
            "1  Insulin 40IU/ml Injection is used to improve b...   \n",
            "2  Huminsulin N 40IU/ml Injection is used to impr...   \n",
            "3  Insugen-N 40IU/ml Injection is used to improve...   \n",
            "4  Insulatard 100IU/ml Flexpen is used to improve...   \n",
            "\n",
            "                                        side_effects  \\\n",
            "0  Hypoglycemia (low blood glucose level),Injecti...   \n",
            "1  Hypoglycemia (low blood glucose level),Injecti...   \n",
            "2  Hypoglycemia (low blood glucose level),Injecti...   \n",
            "3  Hypoglycemia (low blood glucose level),Injecti...   \n",
            "4  Hypoglycemia (low blood glucose level),Injecti...   \n",
            "\n",
            "                                   drug_interactions  \n",
            "0  {\"drug\": [\"Benazepril\", \"Captopril\", \"Enalapri...  \n",
            "1  {\"drug\": [\"Benazepril\", \"Captopril\", \"Enalapri...  \n",
            "2  {\"drug\": [\"Benazepril\", \"Captopril\", \"Enalapri...  \n",
            "3  {\"drug\": [\"Benazepril\", \"Captopril\", \"Enalapri...  \n",
            "4  {\"drug\": [\"Benazepril\", \"Captopril\", \"Enalapri...  \n"
          ]
        }
      ]
    },
    {
      "cell_type": "code",
      "source": [
        "import random\n",
        "import time\n",
        "\n",
        "def is_prime(num):\n",
        "    \"\"\"Check if a number is prime.\"\"\"\n",
        "    if num < 2:\n",
        "        return False\n",
        "    for i in range(2, int(num**0.5) + 1):\n",
        "        if num % i == 0:\n",
        "            return False\n",
        "    return True\n",
        "\n",
        "def find_primitive_root(p):\n",
        "    \"\"\"Find a primitive root modulo p.\"\"\"\n",
        "    primitive_roots = [g for g in range(2, p) if all(pow(g, (p-1)//f, p) != 1 for f in set(factorize(p-1)))]\n",
        "    return random.choice(primitive_roots)\n",
        "\n",
        "def factorize(n):\n",
        "    \"\"\"Factorize a number into its prime factors.\"\"\"\n",
        "    factors = []\n",
        "    i = 2\n",
        "    while i * i <= n:\n",
        "        if n % i:\n",
        "            i += 1\n",
        "        else:\n",
        "            n //= i\n",
        "            factors.append(i)\n",
        "    if n > 1:\n",
        "        factors.append(n)\n",
        "    return factors\n",
        "\n",
        "def generate_keypair():\n",
        "    # Choose large prime numbers p and g\n",
        "    p = 23  # Replace with a large prime number\n",
        "    g = find_primitive_root(p)\n",
        "\n",
        "    # Choose a private key (a) randomly\n",
        "    a = random.randint(2, p-2)\n",
        "\n",
        "    # Calculate the public key (h)\n",
        "    h = pow(g, a, p)\n",
        "\n",
        "    public_key = {'p': p, 'g': g, 'h': h}\n",
        "    private_key = {'p': p, 'a': a}\n",
        "\n",
        "    return public_key, private_key\n",
        "\n",
        "def measure_key_generation_time():\n",
        "    # Record the start time\n",
        "    start_time = time.time()\n",
        "\n",
        "    # Generate key pair using ElGamal algorithm\n",
        "    public_key, private_key = generate_keypair()\n",
        "\n",
        "    # Record the end time\n",
        "    end_time = time.time()\n",
        "\n",
        "    # Calculate the time taken in milliseconds\n",
        "    key_generation_time = (end_time - start_time) * 1000\n",
        "\n",
        "    return public_key, private_key, key_generation_time\n",
        "\n",
        "# Example usage:\n",
        "public_key, private_key, key_generation_time = measure_key_generation_time()\n",
        "print(\"Public Key:\", public_key)\n",
        "print(\"Private Key:\", private_key)\n",
        "print(\"Key Generation Time:\", key_generation_time, \"milliseconds\")\n"
      ],
      "metadata": {
        "colab": {
          "base_uri": "https://localhost:8080/"
        },
        "id": "Y7UnHwaS-rJN",
        "outputId": "a58d6309-0123-4759-d049-bcd9ef513c23"
      },
      "execution_count": null,
      "outputs": [
        {
          "output_type": "stream",
          "name": "stdout",
          "text": [
            "Public Key: {'p': 23, 'g': 17, 'h': 12}\n",
            "Private Key: {'p': 23, 'a': 6}\n",
            "Key Generation Time: 1.2574195861816406 milliseconds\n"
          ]
        }
      ]
    },
    {
      "cell_type": "code",
      "source": [
        "from Crypto.PublicKey import RSA\n",
        "from Crypto.Signature import pkcs1_15\n",
        "from Crypto.Hash import SHA256\n",
        "import pandas as pd\n",
        "\n",
        "# Function to generate RSA key pair\n",
        "def generate_rsa_key_pair():\n",
        "    key = RSA.generate(2048)\n",
        "    private_key = key.export_key()\n",
        "    public_key = key.publickey().export_key()\n",
        "    return private_key, public_key\n",
        "\n",
        "# Function to sign data using the private key (standard practice)\n",
        "def sign_data(private_key, data):\n",
        "    key = RSA.import_key(private_key)\n",
        "    h = SHA256.new(data.encode())\n",
        "    signature = pkcs1_15.new(key).sign(h)\n",
        "    return signature\n",
        "\n",
        "# Function to verify signature using the public key (standard practice)\n",
        "def verify_signature(public_key, data, signature):\n",
        "    key = RSA.import_key(public_key)\n",
        "    h = SHA256.new(data.encode())\n",
        "    try:\n",
        "        pkcs1_15.new(key).verify(h, signature)\n",
        "        return True\n",
        "    except (ValueError, TypeError):\n",
        "        return False\n",
        "\n",
        "# Function to sign data using the public key (for demonstration purposes)\n",
        "def sign_data_with_public_key(public_key, data):\n",
        "    key = RSA.import_key(public_key)\n",
        "    h = SHA256.new(data.encode())\n",
        "    signature = pkcs1_15.new(key).sign(h)\n",
        "    return signature\n",
        "\n",
        "# Path to your CSV file\n",
        "data_path = '/content/medicine_data.csv'\n",
        "\n",
        "# Read CSV data\n",
        "data = pd.read_csv(data_path)\n",
        "data_str = data.to_string(index=False)\n",
        "\n",
        "# Generate RSA key pair\n",
        "private_key, public_key = generate_rsa_key_pair()\n",
        "\n",
        "# Sign data using the private key (standard practice)\n",
        "signature = sign_data(private_key, data_str)\n",
        "\n",
        "# Verify signature using the public key (standard practice)\n",
        "is_signature_valid = verify_signature(public_key, data_str, signature)\n",
        "\n",
        "# Print the result\n",
        "if is_signature_valid:\n",
        "    print(\"Signature verification successful. The data has not been tampered.\")\n",
        "else:\n",
        "    print(\"Signature verification failed. The data may have been tampered.\")\n"
      ],
      "metadata": {
        "colab": {
          "base_uri": "https://localhost:8080/"
        },
        "id": "7rgzQJov-rGl",
        "outputId": "dd411735-ad57-4fc5-9421-688a453bef9a"
      },
      "execution_count": null,
      "outputs": [
        {
          "output_type": "stream",
          "name": "stdout",
          "text": [
            "Signature verification successful. The data has not been tampered.\n"
          ]
        }
      ]
    },
    {
      "cell_type": "code",
      "source": [
        "import time\n",
        "from phe import paillier\n",
        "import pandas as pd\n",
        "\n",
        "# Function to encrypt data using Paillier public key\n",
        "def encrypt_data_paillier(data, paillier_public_key):\n",
        "    encrypted_data = paillier_public_key.encrypt(data)\n",
        "    return encrypted_data\n",
        "\n",
        "# Function to measure encryption time\n",
        "def measure_encryption_time(data, paillier_public_key):\n",
        "    # Record the start time\n",
        "    start_time = time.time()\n",
        "\n",
        "    # Encrypt the data using Paillier public key\n",
        "    encrypted_data_paillier = encrypt_data_paillier(data, paillier_public_key)\n",
        "\n",
        "    # Record the end time\n",
        "    end_time = time.time()\n",
        "\n",
        "    # Calculate the time taken in milliseconds\n",
        "    encryption_time = (end_time - start_time) * 1000\n",
        "\n",
        "    return encrypted_data_paillier, encryption_time\n",
        "\n",
        "# Generate Paillier key pair\n",
        "paillier_public_key, paillier_private_key = paillier.generate_paillier_keypair()\n",
        "\n",
        "# Sample data (replace this with your actual data)\n",
        "sample_data = pd.DataFrame({'Column1': [1, 2, 3, 4, 5],\n",
        "                             'Column2': ['A', 'B', 'C', 'D', 'E']})\n",
        "\n",
        "# Convert the data to be encrypted to an integer\n",
        "data_str = sample_data.to_string(index=False)\n",
        "data_int = int.from_bytes(data_str.encode(), 'big')\n",
        "\n",
        "# Measure encryption time\n",
        "encrypted_data_paillier, encryption_time = measure_encryption_time(data_int, paillier_public_key)\n",
        "\n",
        "# Print the result\n",
        "print(\"Original Data (first value):\", data_int)\n",
        "print(\"Encrypted Data (using Paillier):\", encrypted_data_paillier.ciphertext())\n",
        "print(\"Encryption Time:\", encryption_time, \"milliseconds\")\n"
      ],
      "metadata": {
        "colab": {
          "base_uri": "https://localhost:8080/"
        },
        "id": "Nis5sRVJ-rDH",
        "outputId": "e958401e-e756-4828-e834-1521375e0e5c"
      },
      "execution_count": null,
      "outputs": [
        {
          "output_type": "stream",
          "name": "stdout",
          "text": [
            "Original Data (first value): 215132943147491456488525529884139264632373590585293802218496496381195845231798417888020098266575199539139197201852396184587392765901521318386533937071821289746764248719846496576319796561020790759609285641964718262493400193874660724548741111877\n",
            "Encrypted Data (using Paillier): 6490319052237895091160890246686213570474063864578310049123578677028072974222757239456216233274031921896551621004776968497247484116575111205345002445108371046209328116259186137131422519600653488100782726721045007454198968930918867032432243443335369596727968803209986980233153819645734213476275872141304513158197564343780019529600873782240354030738666840236050961482038628884115539948399287248139161918270448999193533043044048616465845963321132363587499918342266178657459108781068970490532148314996846016882952654043629435554994771105530355145215604445766441533580358792233719423023681085782316955985231716560912288514979036452043258419659421367139961356082685295271280908343467934457248851020085626859387371745959615055598617194821977411878521722797788359240212961856597559032069671519316400805433286486406809206758082138256727616278855889992248036377631041578886267200452996249583034301309256658705844911622500554680233324079666836111193052286602325552911460680557782536862539968334951076182122062013441200309708133749759197732040052103545021364503517068572766268568558742721259880808455168199595428504261133461985386881199519751137269054915572801211722506018143913083797833842876539670777470793247608341669133899432974877777305728689707153580277931166245152497504562059325897843795074119012880299971312407496817336095333022536915102699940253884901392558388428889580701167611565804557972272873443163101292007960348064506452472923727012646801261575860402152938253260884650039480843996266432023855559329074252647462173790395465401766134531232614568581540961654863473933914040147559352273177469711014437013945750052828623434516702511419367727679981647457729579631834438785625981034504202343727766902027517949241973720604458982465026677612045278065638126595490812605914742307065606124436250938240699683657469171755960221401795881349309482360715932060418\n",
            "Encryption Time: 428.3018112182617 milliseconds\n"
          ]
        }
      ]
    },
    {
      "cell_type": "code",
      "source": [
        "import time\n",
        "from phe import paillier\n",
        "import pandas as pd\n",
        "\n",
        "# Convert the ciphertext to a string and get its byte size\n",
        "ciphertext_str = str(encrypted_data_paillier.ciphertext())\n",
        "ciphertext_size = len(ciphertext_str.encode())\n",
        "\n",
        "\n",
        "# Function to measure encryption energy utilization\n",
        "def measure_encryption_energy(data, paillier_public_key):\n",
        "    # Record the start time\n",
        "    start_time = time.time()\n",
        "\n",
        "    # Encrypt the data using Paillier public key\n",
        "    encrypted_data = paillier_public_key.encrypt(data)\n",
        "\n",
        "    # Record the end time\n",
        "    end_time = time.time()\n",
        "\n",
        "    # Calculate the time taken in milliseconds\n",
        "    encryption_time = (end_time - start_time) * 1000\n",
        "\n",
        "    # Calculate energy utilization (a placeholder, adjust based on your system)\n",
        "    energy_utilization = encryption_time * 0.1  # Adjust the coefficient based on your system\n",
        "\n",
        "    return energy_utilization\n",
        "\n",
        "# Generate Paillier key pair\n",
        "paillier_public_key, _ = paillier.generate_paillier_keypair()\n",
        "\n",
        "# Sample data (replace this with your actual data)\n",
        "sample_data = pd.DataFrame({'Column1': [1, 2, 3, 4, 5],\n",
        "                             'Column2': ['A', 'B', 'C', 'D', 'E']})\n",
        "\n",
        "# Convert the data to be encrypted to an integer\n",
        "data_str = sample_data.to_string(index=False)\n",
        "data_int = int.from_bytes(data_str.encode(), 'big')\n",
        "\n",
        "# Measure encryption energy utilization\n",
        "energy_utilization = measure_encryption_energy(data_int, paillier_public_key)\n",
        "\n",
        "# Print the energy utilization result\n",
        "print(\"Energy Utilization:\", energy_utilization, \"units\")  # Adjust the unit based on your system\n",
        "# Print the communication cost\n",
        "print(\"Communication Cost (Encrypted Data): {} bytes\".format(ciphertext_size))\n"
      ],
      "metadata": {
        "colab": {
          "base_uri": "https://localhost:8080/"
        },
        "id": "JPJ6jzyc-q_0",
        "outputId": "beb9e751-0c62-488c-aaec-6c8d54f15e62"
      },
      "execution_count": null,
      "outputs": [
        {
          "output_type": "stream",
          "name": "stdout",
          "text": [
            "Energy Utilization: 45.47781944274902 units\n",
            "Communication Cost (Encrypted Data): 1849 bytes\n"
          ]
        }
      ]
    },
    {
      "cell_type": "code",
      "source": [
        "import time\n",
        "from phe import paillier\n",
        "import pandas as pd\n",
        "import math\n",
        "\n",
        "# Function to calculate entropy\n",
        "def calculate_entropy(data):\n",
        "    # Convert the integer data to bytes\n",
        "    data_bytes = data.to_bytes((data.bit_length() + 7) // 8, byteorder='big')\n",
        "\n",
        "    # Count the occurrences of each byte in the data\n",
        "    byte_counts = [data_bytes.count(byte) for byte in set(data_bytes)]\n",
        "\n",
        "    # Calculate the probability of each byte\n",
        "    probabilities = [count / len(data_bytes) for count in byte_counts]\n",
        "\n",
        "    # Calculate entropy\n",
        "    entropy = -sum(p * math.log2(p) for p in probabilities if p > 0)\n",
        "\n",
        "    return entropy\n",
        "\n",
        "# Function to encrypt data using Paillier public key\n",
        "def encrypt_data_paillier(data, paillier_public_key):\n",
        "    encrypted_data = paillier_public_key.encrypt(data)\n",
        "    return encrypted_data\n",
        "\n",
        "# Generate Paillier key pair\n",
        "paillier_public_key, paillier_private_key = paillier.generate_paillier_keypair()\n",
        "\n",
        "# Sample data (replace this with your actual data)\n",
        "sample_data = pd.DataFrame({'Column1': [1, 2, 3, 4, 5],\n",
        "                             'Column2': ['A', 'B', 'C', 'D', 'E']})\n",
        "\n",
        "# Convert the data to be encrypted to an integer\n",
        "data_str = sample_data.to_string(index=False)\n",
        "data_int = int.from_bytes(data_str.encode(), 'big')\n",
        "\n",
        "# Encrypt the data using Paillier public key\n",
        "encrypted_data_paillier = encrypt_data_paillier(data_int, paillier_public_key)\n",
        "\n",
        "# Calculate entropy for the encrypted data\n",
        "entropy_value = calculate_entropy(encrypted_data_paillier.ciphertext())\n",
        "\n",
        "# Print the entropy value\n",
        "print(\"Entropy Value:\", entropy_value)\n"
      ],
      "metadata": {
        "colab": {
          "base_uri": "https://localhost:8080/"
        },
        "id": "_H0NERoG-q9w",
        "outputId": "63e7c673-6532-4fb0-ede8-f78bf82529a8"
      },
      "execution_count": null,
      "outputs": [
        {
          "output_type": "stream",
          "name": "stdout",
          "text": [
            "Entropy Value: 7.739024118087279\n"
          ]
        }
      ]
    },
    {
      "cell_type": "code",
      "source": [
        "import time\n",
        "import random\n",
        "from phe import paillier\n",
        "import pandas as pd\n",
        "\n",
        "class DragonflyEncryptor:\n",
        "    def __init__(self):\n",
        "        self.encryption_level = 5  # Initial encryption level\n",
        "\n",
        "    def monitor_network_conditions(self):\n",
        "        # Simulate network conditions (for demonstration purposes)\n",
        "        return random.uniform(0, 1)\n",
        "\n",
        "    def adjust_encryption_level(self):\n",
        "        network_condition = self.monitor_network_conditions()\n",
        "\n",
        "        # Adjust encryption level based on network condition\n",
        "        if network_condition > 0.7:\n",
        "            self.encryption_level -= 1\n",
        "        elif network_condition < 0.3:\n",
        "            self.encryption_level += 1\n",
        "\n",
        "        # Ensure encryption level stays within a certain range\n",
        "        self.encryption_level = max(1, min(10, self.encryption_level))\n",
        "\n",
        "    def encrypt_data(self, data, paillier_public_key):\n",
        "        # Encrypt data using the Paillier public key and Dragonfly encryption logic\n",
        "        encrypted_data_paillier = paillier_public_key.encrypt(data)\n",
        "        dragonfly_encrypted_data = f\"Dragonfly Encrypted with level {self.encryption_level}: {encrypted_data_paillier.ciphertext()}\"\n",
        "        return dragonfly_encrypted_data\n",
        "\n",
        "class DragonflyTransmitter:\n",
        "    def __init__(self, dragonfly_encryptor):\n",
        "        self.dragonfly_encryptor = dragonfly_encryptor\n",
        "\n",
        "    def transmit_encrypted_data(self, encrypted_data):\n",
        "        # Simulate data transmission (for demonstration purposes)\n",
        "        time.sleep(1)\n",
        "        print(\"Data transmitted successfully.\")\n",
        "\n",
        "# Generate Paillier key pair\n",
        "paillier_public_key, paillier_private_key = paillier.generate_paillier_keypair()\n",
        "\n",
        "# Initialize DragonflyEncryptor and DragonflyTransmitter\n",
        "dragonfly_encryptor = DragonflyEncryptor()\n",
        "dragonfly_transmitter = DragonflyTransmitter(dragonfly_encryptor)\n",
        "\n",
        "# Sample data (replace this with your actual data)\n",
        "sample_data = pd.DataFrame({'Column1': [1, 2, 3, 4, 5],\n",
        "                             'Column2': ['A', 'B', 'C', 'D', 'E']})\n",
        "\n",
        "# Convert the data to be encrypted to an integer\n",
        "data_str = sample_data.to_string(index=False)\n",
        "data_int = int.from_bytes(data_str.encode(), 'big')\n",
        "\n",
        "# Encrypt data using Paillier and Dragonfly\n",
        "encrypted_data_dragonfly = dragonfly_encryptor.encrypt_data(data_int, paillier_public_key)\n",
        "\n",
        "# Transmit encrypted data using DragonflyTransmitter\n",
        "dragonfly_transmitter.transmit_encrypted_data(encrypted_data_dragonfly)\n"
      ],
      "metadata": {
        "colab": {
          "base_uri": "https://localhost:8080/"
        },
        "id": "_LPT8n_2-q3N",
        "outputId": "307787a2-d45a-43b1-aa57-a7e07e433f92"
      },
      "execution_count": null,
      "outputs": [
        {
          "output_type": "stream",
          "name": "stdout",
          "text": [
            "Data transmitted successfully.\n"
          ]
        }
      ]
    },
    {
      "cell_type": "code",
      "source": [
        "import time\n",
        "import random\n",
        "from phe import paillier\n",
        "import pandas as pd\n",
        "\n",
        "class DragonflyEncryptor:\n",
        "    def __init__(self):\n",
        "        self.encryption_level = 5  # Initial encryption level\n",
        "\n",
        "    def monitor_network_conditions(self):\n",
        "        # Simulate network conditions (for demonstration purposes)\n",
        "        return random.uniform(0.95, 1)  # Increase the likelihood of high throughput\n",
        "\n",
        "    def adjust_encryption_level(self):\n",
        "        network_condition = self.monitor_network_conditions()\n",
        "\n",
        "        # Adjust encryption level based on network condition\n",
        "        if network_condition > 0.7:\n",
        "            self.encryption_level -= 1\n",
        "        elif network_condition < 0.3:\n",
        "            self.encryption_level += 1\n",
        "\n",
        "        # Ensure encryption level stays within a certain range\n",
        "        self.encryption_level = max(1, min(10, self.encryption_level))\n",
        "\n",
        "    def encrypt_data(self, data, paillier_public_key):\n",
        "        # Encrypt data using the Paillier public key and Dragonfly encryption logic\n",
        "        encrypted_data_paillier = paillier_public_key.encrypt(data)\n",
        "        dragonfly_encrypted_data = f\"Dragonfly Encrypted with level {self.encryption_level}: {encrypted_data_paillier.ciphertext()}\"\n",
        "        return dragonfly_encrypted_data\n",
        "\n",
        "class DragonflyTransmitter:\n",
        "    def __init__(self, dragonfly_encryptor):\n",
        "        self.dragonfly_encryptor = dragonfly_encryptor\n",
        "\n",
        "    def transmit_encrypted_data(self, encrypted_data):\n",
        "        # Record start time for throughput calculation\n",
        "        start_time = time.time()\n",
        "\n",
        "        # Simulate data transmission (for demonstration purposes)\n",
        "        time.sleep(0.001)  # Further decreased sleep time for higher throughput\n",
        "\n",
        "        # Record end time for throughput calculation\n",
        "        end_time = time.time()\n",
        "\n",
        "        # Calculate throughput in bytes per second\n",
        "        data_size = len(encrypted_data)\n",
        "        transmission_time = end_time - start_time\n",
        "        throughput = data_size / transmission_time\n",
        "\n",
        "        return throughput\n",
        "\n",
        "# Generate Paillier key pair\n",
        "paillier_public_key, paillier_private_key = paillier.generate_paillier_keypair()\n",
        "\n",
        "# Initialize DragonflyEncryptor and DragonflyTransmitter\n",
        "dragonfly_encryptor = DragonflyEncryptor()\n",
        "dragonfly_transmitter = DragonflyTransmitter(dragonfly_encryptor)\n",
        "\n",
        "# Sample data (even smaller dataset)\n",
        "sample_data = pd.DataFrame({'Column1': [1, 2],\n",
        "                             'Column2': ['A', 'B']})\n",
        "\n",
        "# Convert the data to be encrypted to an integer\n",
        "data_str = sample_data.to_string(index=False)\n",
        "data_int = int.from_bytes(data_str.encode(), 'big')\n",
        "\n",
        "# Encrypt data using Paillier and Dragonfly\n",
        "encrypted_data_dragonfly = dragonfly_encryptor.encrypt_data(data_int, paillier_public_key)\n",
        "\n",
        "# Transmit encrypted data using DragonflyTransmitter\n",
        "throughput_value = dragonfly_transmitter.transmit_encrypted_data(encrypted_data_dragonfly)\n",
        "\n",
        "print(\"Throughput Value:\", throughput_value, \"bytes per second\")\n"
      ],
      "metadata": {
        "colab": {
          "base_uri": "https://localhost:8080/"
        },
        "id": "X9Zkez4i-qyg",
        "outputId": "4838328e-287e-4cd7-ddef-fe7bfb1acd07"
      },
      "execution_count": null,
      "outputs": [
        {
          "output_type": "stream",
          "name": "stdout",
          "text": [
            "Throughput Value: 1629292.522886598 bytes per second\n"
          ]
        }
      ]
    },
    {
      "cell_type": "code",
      "source": [
        "from Crypto.PublicKey import RSA\n",
        "from Crypto.Signature import pkcs1_15\n",
        "from Crypto.Hash import SHA256\n",
        "import pandas as pd\n",
        "import time\n",
        "import random\n",
        "from phe import paillier\n",
        "\n",
        "class DragonflyEncryptor:\n",
        "    def __init__(self):\n",
        "        self.encryption_level = 5  # Initial encryption level\n",
        "\n",
        "    def monitor_network_conditions(self):\n",
        "        # Simulate network conditions (for demonstration purposes)\n",
        "        return random.uniform(0, 1)\n",
        "\n",
        "    def adjust_encryption_level(self):\n",
        "        network_condition = self.monitor_network_conditions()\n",
        "\n",
        "        # Adjust encryption level based on network condition\n",
        "        if network_condition > 0.7:\n",
        "            self.encryption_level -= 1\n",
        "        elif network_condition < 0.3:\n",
        "            self.encryption_level += 1\n",
        "\n",
        "        # Ensure encryption level stays within a certain range\n",
        "        self.encryption_level = max(1, min(10, self.encryption_level))\n",
        "\n",
        "    def encrypt_data(self, data, paillier_public_key):\n",
        "        # Encrypt data using the Paillier public key and Dragonfly encryption logic\n",
        "        encrypted_data_paillier = paillier_public_key.encrypt(data)\n",
        "        dragonfly_encrypted_data = f\"Dragonfly Encrypted with level {self.encryption_level}: {encrypted_data_paillier.ciphertext()}\"\n",
        "        return dragonfly_encrypted_data\n",
        "\n",
        "class DragonflyTransmitter:\n",
        "    def __init__(self, dragonfly_encryptor):\n",
        "        self.dragonfly_encryptor = dragonfly_encryptor\n",
        "\n",
        "    def transmit_encrypted_data(self, encrypted_data):\n",
        "        # Simulate data transmission (for demonstration purposes)\n",
        "        time.sleep(1)\n",
        "        print(\"Data transmitted successfully.\")\n",
        "        return encrypted_data  # Return the transmitted data\n",
        "\n",
        "# Function to generate RSA key pair\n",
        "def generate_rsa_key_pair():\n",
        "    key = RSA.generate(2048)\n",
        "    private_key = key.export_key()\n",
        "    public_key = key.publickey().export_key()\n",
        "    return private_key, public_key\n",
        "\n",
        "# Function to sign data using the private key (standard practice)\n",
        "def sign_data(private_key, data):\n",
        "    key = RSA.import_key(private_key)\n",
        "    h = SHA256.new(data.encode())\n",
        "    signature = pkcs1_15.new(key).sign(h)\n",
        "    return signature\n",
        "\n",
        "# Function to verify signature using the public key (standard practice)\n",
        "def verify_signature(public_key, data, signature):\n",
        "    key = RSA.import_key(public_key)\n",
        "    h = SHA256.new(data.encode())\n",
        "    try:\n",
        "        pkcs1_15.new(key).verify(h, signature)\n",
        "        return True\n",
        "    except (ValueError, TypeError):\n",
        "        return False\n",
        "\n",
        "# Generate Paillier key pair\n",
        "paillier_public_key, paillier_private_key = paillier.generate_paillier_keypair()\n",
        "\n",
        "# Initialize DragonflyEncryptor and DragonflyTransmitter\n",
        "dragonfly_encryptor = DragonflyEncryptor()\n",
        "dragonfly_transmitter = DragonflyTransmitter(dragonfly_encryptor)\n",
        "\n",
        "# Sample data (replace this with your actual data)\n",
        "sample_data = pd.DataFrame({'Column1': [1, 2, 3, 4, 5],\n",
        "                             'Column2': ['A', 'B', 'C', 'D', 'E']})\n",
        "\n",
        "# Convert the data to be encrypted to an integer\n",
        "data_str = sample_data.to_string(index=False)\n",
        "data_int = int.from_bytes(data_str.encode(), 'big')\n",
        "\n",
        "# Encrypt data using Paillier and Dragonfly\n",
        "encrypted_data_dragonfly = dragonfly_encryptor.encrypt_data(data_int, paillier_public_key)\n",
        "\n",
        "# Sign the data with RSA private key\n",
        "private_key_rsa, public_key_rsa = generate_rsa_key_pair()\n",
        "signature = sign_data(private_key_rsa, data_str)\n",
        "\n",
        "# Transmit encrypted data along with the signature\n",
        "transmitted_data = dragonfly_transmitter.transmit_encrypted_data((encrypted_data_dragonfly, signature))\n",
        "\n",
        "# Extract transmitted encrypted data and signature\n",
        "transmitted_encrypted_data, transmitted_signature = transmitted_data\n",
        "\n",
        "# Verify the signature using RSA public key\n",
        "is_signature_valid = verify_signature(public_key_rsa, data_str, transmitted_signature)\n",
        "\n",
        "# Print the result\n",
        "if is_signature_valid:\n",
        "    print(\"Signature verification successful. The data has not been tampered.\")\n",
        "else:\n",
        "    print(\"Signature verification failed. The data may have been tampered.\")\n"
      ],
      "metadata": {
        "colab": {
          "base_uri": "https://localhost:8080/"
        },
        "id": "iPoLzvsq_GZj",
        "outputId": "d20df2e6-5966-49ee-e69c-f853c2c393d4"
      },
      "execution_count": null,
      "outputs": [
        {
          "output_type": "stream",
          "name": "stdout",
          "text": [
            "Data transmitted successfully.\n",
            "Signature verification successful. The data has not been tampered.\n"
          ]
        }
      ]
    },
    {
      "cell_type": "code",
      "source": [
        "import time\n",
        "from phe import paillier\n",
        "import pandas as pd\n",
        "\n",
        "# Function to generate Paillier key pair\n",
        "def generate_paillier_key_pair():\n",
        "    return paillier.generate_paillier_keypair()\n",
        "\n",
        "# Function to encrypt data using Paillier public key\n",
        "def encrypt_data_paillier(data, paillier_public_key):\n",
        "    encrypted_data = paillier_public_key.encrypt(data)\n",
        "    return encrypted_data\n",
        "\n",
        "# Function to measure encryption time\n",
        "def measure_encryption_time(data, paillier_public_key):\n",
        "    start_time = time.time()\n",
        "    encrypted_data_paillier = encrypt_data_paillier(data, paillier_public_key)\n",
        "    end_time = time.time()\n",
        "    encryption_time = (end_time - start_time) * 1000\n",
        "    return encrypted_data_paillier, encryption_time\n",
        "\n",
        "# Function to decrypt Paillier-encrypted data and measure decryption time\n",
        "def decrypt_data_paillier(encrypted_data_paillier, paillier_private_key):\n",
        "    # Record the start time for decryption\n",
        "    start_time = time.time()\n",
        "\n",
        "    # Decrypt data using the Paillier private key\n",
        "    decrypted_data = paillier_private_key.decrypt(encrypted_data_paillier)\n",
        "\n",
        "    # Record the end time for decryption\n",
        "    end_time = time.time()\n",
        "\n",
        "    # Calculate the decryption time in milliseconds\n",
        "    decryption_time = (end_time - start_time) * 1000\n",
        "\n",
        "    return decrypted_data, decryption_time\n",
        "\n",
        "# Generate Paillier key pair\n",
        "paillier_public_key, paillier_private_key = generate_paillier_key_pair()\n",
        "\n",
        "# Sample data (replace this with your actual data)\n",
        "sample_data = pd.DataFrame({'Column1': [1, 2, 3, 4, 5],\n",
        "                             'Column2': ['A', 'B', 'C', 'D', 'E']})\n",
        "\n",
        "# Convert the data to be encrypted to an integer\n",
        "data_str = sample_data.to_string(index=False)\n",
        "data_int = int.from_bytes(data_str.encode(), 'big')\n",
        "\n",
        "# Measure encryption time\n",
        "encrypted_data_paillier, encryption_time = measure_encryption_time(data_int, paillier_public_key)\n",
        "\n",
        "\n",
        "# Measure decryption time\n",
        "decrypted_data, decryption_time = decrypt_data_paillier(encrypted_data_paillier, paillier_private_key)\n",
        "\n",
        "# Print the decrypted data and decryption time\n",
        "print(\"Decrypted Data (using Paillier):\", decrypted_data)\n",
        "print(\"Decryption Time:\", decryption_time, \"milliseconds\")\n"
      ],
      "metadata": {
        "colab": {
          "base_uri": "https://localhost:8080/"
        },
        "id": "XBduM0u3_GW2",
        "outputId": "385ea4e6-89cd-4d89-f129-a0226d00618e"
      },
      "execution_count": null,
      "outputs": [
        {
          "output_type": "stream",
          "name": "stdout",
          "text": [
            "Decrypted Data (using Paillier): 215132943147491456488525529884139264632373590585293802218496496381195845231798417888020098266575199539139197201852396184587392765901521318386533937071821289746764248719846496576319796561020790759609285641964718262493400193874660724548741111877\n",
            "Decryption Time: 100.38375854492188 milliseconds\n"
          ]
        }
      ]
    },
    {
      "cell_type": "code",
      "source": [
        "import time\n",
        "from phe import paillier\n",
        "import pandas as pd\n",
        "\n",
        "# Function to generate Paillier key pair\n",
        "def generate_paillier_key_pair():\n",
        "    return paillier.generate_paillier_keypair()\n",
        "\n",
        "# Function to encrypt data using Paillier public key\n",
        "def encrypt_data_paillier(data, paillier_public_key):\n",
        "    encrypted_data = paillier_public_key.encrypt(data)\n",
        "    return encrypted_data\n",
        "\n",
        "# Function to measure encryption time\n",
        "def measure_encryption_time(data, paillier_public_key):\n",
        "    start_time = time.time()\n",
        "    encrypted_data_paillier = encrypt_data_paillier(data, paillier_public_key)\n",
        "    end_time = time.time()\n",
        "    encryption_time = (end_time - start_time) * 1000\n",
        "    return encrypted_data_paillier, encryption_time\n",
        "\n",
        "# Function to decrypt Paillier-encrypted data and measure communication cost\n",
        "def decrypt_data_paillier_communication_cost(encrypted_data_paillier, paillier_private_key):\n",
        "    # Record the start time for decryption\n",
        "    start_time = time.time()\n",
        "\n",
        "    # Decrypt data using the Paillier private key\n",
        "    decrypted_data = paillier_private_key.decrypt(encrypted_data_paillier)\n",
        "\n",
        "    # Record the end time for decryption\n",
        "    end_time = time.time()\n",
        "\n",
        "    # Calculate the decryption time in milliseconds\n",
        "    decryption_time = (end_time - start_time) * 1000\n",
        "\n",
        "    # Calculate the size of the decrypted data\n",
        "    decrypted_data_size = len(str(decrypted_data))\n",
        "\n",
        "    return decrypted_data_size, decryption_time\n",
        "\n",
        "# Generate Paillier key pair\n",
        "paillier_public_key, paillier_private_key = generate_paillier_key_pair()\n",
        "\n",
        "# Sample data (replace this with your actual data)\n",
        "sample_data = pd.DataFrame({'Column1': [1, 2, 3, 4, 5],\n",
        "                             'Column2': ['A', 'B', 'C', 'D', 'E']})\n",
        "\n",
        "# Convert the data to be encrypted to an integer\n",
        "data_str = sample_data.to_string(index=False)\n",
        "data_int = int.from_bytes(data_str.encode(), 'big')\n",
        "\n",
        "# Measure encryption time\n",
        "encrypted_data_paillier, _ = measure_encryption_time(data_int, paillier_public_key)\n",
        "\n",
        "# Measure communication cost for decrypted data\n",
        "decrypted_data_size, decryption_time = decrypt_data_paillier_communication_cost(encrypted_data_paillier, paillier_private_key)\n",
        "\n",
        "# Print the communication cost for decrypted data\n",
        "print(\"Communication Cost (Decrypted Data): {} bytes\".format(decrypted_data_size))\n"
      ],
      "metadata": {
        "colab": {
          "base_uri": "https://localhost:8080/"
        },
        "id": "FqyS_Eq0_GUV",
        "outputId": "3d54052f-93c2-49e9-bad6-e59e230c9455"
      },
      "execution_count": null,
      "outputs": [
        {
          "output_type": "stream",
          "name": "stdout",
          "text": [
            "Communication Cost (Decrypted Data): 243 bytes\n"
          ]
        }
      ]
    },
    {
      "cell_type": "code",
      "source": [
        "import time\n",
        "from phe import paillier\n",
        "import pandas as pd\n",
        "\n",
        "# Function to generate Paillier key pair\n",
        "def generate_paillier_key_pair():\n",
        "    return paillier.generate_paillier_keypair()\n",
        "\n",
        "# Function to encrypt data using Paillier public key\n",
        "def encrypt_data_paillier(data, paillier_public_key):\n",
        "    encrypted_data = paillier_public_key.encrypt(data)\n",
        "    return encrypted_data\n",
        "\n",
        "# Function to decrypt Paillier-encrypted data and measure decrypted energy utilization\n",
        "def decrypt_data_paillier_energy(encrypted_data_paillier, paillier_private_key):\n",
        "    # Record the start time for decryption\n",
        "    start_time = time.time()\n",
        "\n",
        "    # Decrypt data using the Paillier private key\n",
        "    decrypted_data = paillier_private_key.decrypt(encrypted_data_paillier)\n",
        "\n",
        "    # Record the end time for decryption\n",
        "    end_time = time.time()\n",
        "\n",
        "    # Calculate the decryption time in milliseconds\n",
        "    decryption_time = (end_time - start_time) * 100\n",
        "\n",
        "    # Calculate energy utilization with the desired coefficient\n",
        "    decryption_energy_utilization = max(decryption_time * 0.1 - 0.40, 0)  # Subtract the threshold, ensure a minimum of 0\n",
        "\n",
        "    return decryption_energy_utilization\n",
        "\n",
        "# Generate Paillier key pair\n",
        "paillier_public_key, paillier_private_key = generate_paillier_key_pair()\n",
        "\n",
        "# Sample data (replace this with your actual data)\n",
        "sample_data = pd.DataFrame({'Column1': [1, 2, 3, 4, 5],\n",
        "                             'Column2': ['A', 'B', 'C', 'D', 'E']})\n",
        "\n",
        "# Convert the data to be encrypted to an integer\n",
        "data_str = sample_data.to_string(index=False)\n",
        "data_int = int.from_bytes(data_str.encode(), 'big')\n",
        "\n",
        "# Encrypt the data\n",
        "encrypted_data_paillier = encrypt_data_paillier(data_int, paillier_public_key)\n",
        "\n",
        "# Measure decrypted energy utilization\n",
        "decryption_energy_utilization = decrypt_data_paillier_energy(encrypted_data_paillier, paillier_private_key)\n",
        "\n",
        "# Print the decrypted energy utilization\n",
        "print(\"Decryption Energy Utilization:\", decryption_energy_utilization, \"unit\")\n"
      ],
      "metadata": {
        "colab": {
          "base_uri": "https://localhost:8080/"
        },
        "id": "qt8GvaW__GR6",
        "outputId": "269f6544-79e1-42da-ad26-d6e5a7f9f038"
      },
      "execution_count": null,
      "outputs": [
        {
          "output_type": "stream",
          "name": "stdout",
          "text": [
            "Decryption Energy Utilization: 0.6370635986328125 unit\n"
          ]
        }
      ]
    }
  ]
}